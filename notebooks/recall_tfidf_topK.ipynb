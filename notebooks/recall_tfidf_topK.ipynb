{
 "cells": [
  {
   "cell_type": "markdown",
   "metadata": {},
   "source": [
    "# TF-IDF 성능 확인\n",
    "\n",
    "TF-IDF를 이용하면 top-k에 따른 recall이 어느 정도 나오는지 확인\n",
    "먼저 TF-IDF을 구한다."
   ]
  },
  {
   "cell_type": "code",
   "execution_count": 1,
   "metadata": {},
   "outputs": [],
   "source": [
    "import sys, os\n",
    "dir_path = os.path.dirname(os.path.abspath(''))\n",
    "src_path = os.path.join(dir_path, 'src')\n",
    "sys.path.append(src_path)"
   ]
  },
  {
   "cell_type": "code",
   "execution_count": 2,
   "metadata": {},
   "outputs": [],
   "source": [
    "from Retrieval.sparse_retrieval import SparseRetrieval\n",
    "from config import Config\n",
    "from transformers import AutoTokenizer"
   ]
  },
  {
   "cell_type": "code",
   "execution_count": 3,
   "metadata": {},
   "outputs": [
    {
     "name": "stderr",
     "output_type": "stream",
     "text": [
      "e:\\miniconda\\envs\\w08-hw01\\lib\\site-packages\\huggingface_hub\\file_download.py:1142: FutureWarning: `resume_download` is deprecated and will be removed in version 1.0.0. Downloads always resume when possible. If you want to force a new download, use `force_download=True`.\n",
      "  warnings.warn(\n"
     ]
    }
   ],
   "source": [
    "config = Config(path='../config.yaml')\n",
    "tokenizer = AutoTokenizer.from_pretrained(config.model.name())"
   ]
  },
  {
   "cell_type": "code",
   "execution_count": 4,
   "metadata": {},
   "outputs": [
    {
     "name": "stdout",
     "output_type": "stream",
     "text": [
      "Lengths of unique contexts : 56737\n"
     ]
    }
   ],
   "source": [
    "retriever = SparseRetrieval(tokenize_fn=tokenizer.tokenize, context_path='../data/wikipedia_documents.json')"
   ]
  },
  {
   "cell_type": "code",
   "execution_count": 5,
   "metadata": {},
   "outputs": [
    {
     "name": "stdout",
     "output_type": "stream",
     "text": [
      "Embedding pickle load.\n"
     ]
    }
   ],
   "source": [
    "retriever.get_sparse_embedding()"
   ]
  },
  {
   "cell_type": "markdown",
   "metadata": {},
   "source": [
    "이제 데이터셋을 불러온 후,  \n",
    "top-k에 따른 recall을 구해보자.  "
   ]
  },
  {
   "cell_type": "code",
   "execution_count": 6,
   "metadata": {},
   "outputs": [],
   "source": [
    "from datasets import load_from_disk\n",
    "import json"
   ]
  },
  {
   "cell_type": "code",
   "execution_count": 7,
   "metadata": {},
   "outputs": [],
   "source": [
    "dataset = load_from_disk('../data/train_dataset')\n",
    "with open('../data/wikipedia_documents.json', 'r') as f:\n",
    "    wikipedia = json.load(f)"
   ]
  },
  {
   "cell_type": "code",
   "execution_count": 8,
   "metadata": {},
   "outputs": [],
   "source": [
    "train_dataset = dataset[\"train\"]\n",
    "questions = train_dataset['question']\n",
    "answers = train_dataset['context']"
   ]
  },
  {
   "cell_type": "code",
   "execution_count": 9,
   "metadata": {},
   "outputs": [],
   "source": [
    "_, doc_indices = retriever.get_relevant_doc_bulk(questions, k=100)"
   ]
  },
  {
   "cell_type": "code",
   "execution_count": 10,
   "metadata": {},
   "outputs": [],
   "source": [
    "rankings = []\n",
    "for i, indices in enumerate(doc_indices):\n",
    "    in_k = False\n",
    "    for rank, idx in enumerate(indices):\n",
    "        if retriever.contexts[idx] == answers[i]:\n",
    "            in_k = True\n",
    "            rankings.append(rank+1)\n",
    "            break\n",
    "    if not in_k:\n",
    "        rankings.append(len(indices)+1)"
   ]
  },
  {
   "cell_type": "code",
   "execution_count": 11,
   "metadata": {},
   "outputs": [],
   "source": [
    "def recall_at_k(k, rankings):\n",
    "    return sum([1 for rank in rankings if rank <= k]) / len(rankings)"
   ]
  },
  {
   "cell_type": "code",
   "execution_count": 12,
   "metadata": {},
   "outputs": [],
   "source": [
    "recalls = [recall_at_k(k, rankings) for k in range(1, 101)]"
   ]
  },
  {
   "cell_type": "markdown",
   "metadata": {},
   "source": [
    "lineplot으로 시각화 진행"
   ]
  },
  {
   "cell_type": "code",
   "execution_count": 13,
   "metadata": {},
   "outputs": [],
   "source": [
    "import matplotlib as mpt\n",
    "import matplotlib.pyplot as plt"
   ]
  },
  {
   "cell_type": "code",
   "execution_count": 14,
   "metadata": {},
   "outputs": [
    {
     "data": {
      "image/png": "[encoded data removed]",
      "text/plain": [
       "<Figure size 640x480 with 1 Axes>"
      ]
     },
     "metadata": {},
     "output_type": "display_data"
    }
   ],
   "source": [
    "fig = plt.figure()\n",
    "ax = fig.add_subplot(111)\n",
    "ax.plot(range(1, 101), recalls)\n",
    "ax.set_xlabel('top-k')\n",
    "ax.set_ylabel('recall')\n",
    "ax.set_xticks(range(0, 101, 5))\n",
    "ax.set_title('Recall@K')\n",
    "ax.grid()"
   ]
  },
  {
   "cell_type": "code",
   "execution_count": 15,
   "metadata": {},
   "outputs": [
    {
     "name": "stdout",
     "output_type": "stream",
     "text": [
      "recall @ 1 : 0.25025303643724695\n",
      "recall @ 2 : 0.38031376518218624\n",
      "recall @ 3 : 0.45116396761133604\n",
      "recall @ 5 : 0.534919028340081\n",
      "recall @ 8 : 0.6077935222672065\n",
      "recall @ 17 : 0.7042004048582996\n",
      "recall @ 43 : 0.8011133603238867\n",
      "recall @ 100 : 0.8704453441295547\n"
     ]
    }
   ],
   "source": [
    "print(\"recall @ 1 :\", recalls[0])\n",
    "target_recall = (int(recalls[0] * 100)//10 + 1) * 10\n",
    "for i in range(1, 100):\n",
    "    if recalls[i] >= target_recall/100:\n",
    "        print(\"recall @\", i+1, \":\", recalls[i])\n",
    "        target_recall += 10\n",
    "print(\"recall @ 100 :\", recalls[99])"
   ]
  },
  {
   "cell_type": "markdown",
   "metadata": {},
   "source": [
    "왜 100개의 문서나 찾아도 확인할 수 없는 문서가 약 13%나 존재하는 걸까?  "
   ]
  },
  {
   "cell_type": "code",
   "execution_count": 26,
   "metadata": {},
   "outputs": [],
   "source": [
    "import random"
   ]
  },
  {
   "cell_type": "code",
   "execution_count": 16,
   "metadata": {},
   "outputs": [],
   "source": [
    "def get_bad_idx(rankings, k):\n",
    "    rtn = []\n",
    "    for i, rank in enumerate(rankings):\n",
    "        if rank > k:\n",
    "            rtn.append(i)\n",
    "    return rtn"
   ]
  },
  {
   "cell_type": "code",
   "execution_count": 17,
   "metadata": {},
   "outputs": [],
   "source": [
    "bad_idx = get_bad_idx(rankings, 100)"
   ]
  },
  {
   "cell_type": "code",
   "execution_count": 19,
   "metadata": {},
   "outputs": [
    {
     "data": {
      "text/plain": [
       "512"
      ]
     },
     "execution_count": 19,
     "metadata": {},
     "output_type": "execute_result"
    }
   ],
   "source": [
    "len(bad_idx)"
   ]
  },
  {
   "cell_type": "code",
   "execution_count": 27,
   "metadata": {},
   "outputs": [
    {
     "name": "stdout",
     "output_type": "stream",
     "text": [
      "Q:  철수가 피하려고 하지만 사실 친구로 생각하는 사람은?\n",
      "C:  카스카베 방위대의 일원. 부잣집 외아들로 태어났지만 아빠는 일 때문에 해외출장이 일상이라 집에 들어오는 일이 거의 없어서 엄마랑 둘이서 지낸다고 봐도 무방하다. 어릴때부터 각종 영재교육을 받아온 탓에 또래들보다 똘똘하고 현명한데다 상식이 풍부하고 어른스럽게 행동하는 편. 일단 친구들 앞에서는 액션가면 같은 만화들을 '애들이나 보는 유치한 만화'라고 치부하지만 실은 자신도 그 만화들을 매우 좋아한다. 특히 마법소녀 모에P 여주인공을 매우 좋아해 사진과 피규어들을 잔뜩 모아놓고 CD까지 사놔 몰래 음악을 틀어놓고 즐긴다. 그래서 친구들한테 모에P 덕후라는걸 들키지 않기위해 노력하는 에피소드가 몇개 있다.\\n\\n이를 두고 팬들 사이에서는 남자애라고 저런걸 숨기는게 오히려 성 고정관념을 부추기는것이며 그냥 속 시원스럽게 밝혔으면 좋겠다는 의견이 있다.\\n\\n일단 친구들과의 관계는 원만한 편이지만 유독 노하라 신노스케하고는 가급적 단둘이 있는걸 피하려 든다. 툭하면 자기 귀를 핥거나 바람 불어넣기 등의 행동을 하는데다 그와 같이 있으면 필시 귀찮은 사건사고들이 연달아 벌어지기 때문. 더군다나 신노스케가 마음대로 그를 '그렇고 그런 사이'라고 떠드는 학원 친구들이나 좋아하고 있는 여자애 앞에서 망신당한 적도 많았다. 하지만 아주 가끔은 신노스케 덕을 볼때도 있었다.\\n\\n한번은 엄마 미네코가 지나치게 부담감을 키우자 스트레스가 폭발해 공원에서 우연히 만난 신노스케 집에서 하룻밤만 재워달라고 한다. 나중에 모든 사정을 알게된 미네코는 학원뺑뺑이 돌린걸 사과하며 하루만 재워달라고 미사에한테 부탁했고 그날밤, 이부자리를 펼쳐놓고 신노스케와 즐겁게 베개싸움을 하고 놀았다. 이후에는 성적이 떨어졌다는 이유 하나로 같이 다니던 학원 친구들한테서 따돌림을 당했다. 충격을 받아 비를 맞고 터덜터덜 걸어가고 있는데 누군가 우산을 씌워줬다. 바로 장을 보고 돌아오던 신노스케와 미사에였다.\\n\\n이후 그는 신노스케 집에서 목욕을 했고 미사에는 급한대로 자기 아들이 입던 옷과 우산까지 빌려주었다. 집을 나서기 전, 그는 신노스케한테 전날 친구들 앞에서 모른체한걸 사과했고 이후 그와 나란히 우산을 쓰고 집까지 걸어간다.\\n\\n짱구는 못말려 극장판: 나의 이사 이야기 선인장 대습격에서 두 사람의 우정이 잘 부각된다. 신노스케의 멕시코 이민소식을 접한 그는 이별의 무게를 실감하지 못하고 금방이라도 다시 만날것처럼 태연하게 그는 그에게 멕시코라는 나라가 얼마나 먼지 아느냐며 너 같은 애 질렸다고 윽박질렀다. 이후 신노스케하고는 거리를 두고 지냈고 네네가 배웅하러 가자는데도 한사코 거부했다. 그러다 신노스케가 전철을 타고 공항으로 갈때 늦게나마 멀리 울면서 달려와 때마침 만든 카스카베 방위대 뱃지를 들어올려 보이며 영원한 친구임을 증명했다.\\n\\n짱구는 못말려 극장판: 초시공! 태풍을 부르는 나의 신부에서는 어른이 된 모습이 나왔다. 어릴때부터 유능한 영재교육이 빛을 발해 유능한 엘리트가 되었고 카네아리 전기에 취직해 회장 마스조의 절대적인 신임을 얻어 그의 딸 타미코와 결혼까지 하게된다.\n",
      "A:  노하라 신노스케 from 김철수 (등장인물)\n",
      "\n",
      "Q:  내전으로 인해 어마어마한 부채를 떠안고 있는 인물은?\n",
      "C:  듄을 지배하는 자가 스파이스를 지배하고 스파이스를 지배하는 자가 우주를 지배한다.\\n\\n듄(Dune)이라고도 불리는 사막 행성 아라키스(Arrakis)는 모래로 뒤덮인 불모의 땅이다. 언뜻 아무 쓸모 없어 보이는 이 조그만 행성은, 그러나 우주에서 유일한 스파이스 멜란지(Spice melange)의 생산지이다. 스파이스 멜란지는 인간의 수명을 수백년 단위로 증가시키며, 사물과 미래에 대한 예지력과 정신능력을 확장시켜 준다. 또한 이러한 스파이스로 인하여 우주 네비게이터 길드(Spacing guild)의 항성 사이를 오고 가며 여행할 수 있게 된다. 이러한 멜란지는 우주를 유지하는 물질이며, 또한 우주에서 가장 소중하고 귀중한 물질이다. 이러한 스파이스의 생산지, 아라키스는 명실상부한 우주의 중심이며 아라키스를 지배하는 자가 사실상 우주를 지배한다.\\n\\n우주 제국의 코리노 황가의 황제인 사담 4세는 황가의 내전으로 인한 전쟁 비용으로 인해 엄청난 빚더미에 올라 앉아 있었다. 자신이 현재 지배하고 있는 아라키스에서 스파이스를 채굴하여 빚을 갚으려 하였으나, 그 엄청난 빚을 갚기 위해서 필요한 스파이스의 양 역시 엄청났다. 다급해진 황제는 스파이스를 모으기 위해서 자신에게 스파이스 멜란지를 가장 많이 채굴하여 바치는 가문에게 아라키스의 통치권을 넘겨 주겠다는 제안을 하게 된다. 이에 따라 우주 제국의 3대 가문인 아트레이드, 하코넨, 오르도스는 아라키스의 통치권을 얻기 위하여 아라키스로 출병하게 되고, 전쟁은 시작된다.\n",
      "A:  우주 제국의 코리노 황가의 황제인 사담 4세 from 듄 II\n",
      "\n",
      "Q:  남녀가 키스를 나눈 마을 이름은?\n",
      "C:  곰스크로 향하는 기차에 결혼식을 마치고 새로운 출발을 상상하며 들떠있는 남자와 남기고 온 것들에 대한 아쉬움과 그리움을 떨쳐버리지 못하는 여자가 나란히 앉아있다. 기차는 어느 조용한 마을역 몬트하임에 잠시 정차하게 되고 두 사람은 역 대합실을 빠져나와 작은 레스토랑으로 들어간다. 그곳에서 여자는 자신의 부케를 레스토랑 작은 꽃병에 꽂아둔다. 여자는 답답하다며 조금 걷자 하고, 숲으로 간 두 사람은 경치에 취하고 처음 만날 때를 이야기하며 키스를 나눈다. 그때 갑자기 기차의 출발을 알리는 기적소리가 들린다. 곰스크로 향하는 기차를 놓친 두 사람은 어쩔 수 없이 레스토랑의 2층 작은 방에서 밤을 보낸다.\\n\\n다음날, 창문에 그림을 붙이고 안정감이 든다며 방청소를 시작한 여자는 평온을 찾는다. 남자는 기적소리에 기차역으로 뛰어가지만 정차하지 않고 그냥 떠난다. 레스토랑 주인에게 곰스크로 향하는 기차는 언제 오냐고 묻자, 언제 올지도, 여기에 설지도 모른다고 한다. 어느덧 시간이 흐르고 여자는 처음부터 그랬듯이 몬트하임의 생활에 안정감과 행복을 느낀다. 하지만 남자는 끊임없이 곰스크로 떠나려 한다. 이제 두 사람은 두 아이를 두었으며, 남자는 학생들을 가르치며 여느 가족처럼 단란하게 살고 있다. 하지만 남자는 여전히 곰스크에 대한 동경을 버리지 못하고 그곳으로 떠날 기차표를 사기 위해 돈을 모으고 있다.\n",
      "A:  몬트하임 from 곰스크로 가는 기차\n",
      "\n",
      "Q:  노선이 확대되기 전 열차의 객차는 몇 개였나?\n",
      "C:  스토우빌선 열차를 처음 운행할 때는 6량으로 시작하였다 두 번째 열차가 추가될 때에는 두 열차가 스토우빌역에서 밤 사이에 정박하였다. 세 번째 열차가 추가되면서 앞으로 추가 운행할 열차를 정박할 공간이 부족하였다 이에 따라 스토우빌에서 북동쪽으로 3km가량 떨어진 링컨빌에 새로운 차량 기지를 짓는 공사가 이루어졌다. 링컨빌 차량 기지는 2007년에 개통하였고 12량 열차를 최대 6대까지 수용할 수 있도록 지어졌다. 새로운 차량 기지가 지어짐에 따라 기존에 요크 지역 북쪽과 더럼 지역에서 출퇴근하는 사람들을 위한 환승 주차장이 있었던 링컨빌까지 노선을 연장 운행할 수 있게 되었고 열차를 6량에서 10량까지 증결할 수 있었다. 링컨빌역은 2008년 9월 2일에 개통하였다. \\n\\n이 때까지 유니언과 스토우빌역 사이에 왕복 5편의 열차가 운행하였는데 모두 다 링컨빌로 연장되었다 2012년에는 토론토에서 유니언빌역까지 왕복 편이 한 편 추가되었고 2013년에는 링컨빌에서 시종착하는 6번째 왕복 편이 운행을 시작하였다. 또한 같은 해에 유니언빌 방면 열차가 한 대 추가되었다 이와 더불어 GO 트랜싯은 스토우빌선의 혼잡을 줄이기 위해 평일 아침 마지막 3대 열차와 오후 첫 4대 열차를 12량으로 증결하였다. 이는 2012년 가을에 스토우빌의 모든역 승강장이 12량 대응으로 지어지면서 운행을 시작하였다. \\n\\nGO 트랜싯은 또한 선로 용량을 늘리기 위해 CN 요크 선과의 다이아몬드 평면 교차를 입체화하였고 억스브릿지 선을 복선화하였다\n",
      "A:  6량 from 스토우빌선\n",
      "\n",
      "Q:  경기를 홍보하기 위해 언급된 사람은?\n",
      "C:  윤형빈과의 경기 전 페이스북에 \"상대가 연예인이라던데 종합격투기가 만만하게 보이나? 생긴 것도 호박같은 게, 한국인에게 절대 질 수 없다. 일본의 힘을 보여주겠다!\"라며 윤형빈을 도발하는 발언 등을 남겼는 해당 페이스북 계정은 2013년 12월 30일에 만든 것으로 시합을 앞두고 만든 것이다. 본래 격투기 시합 등에서 시합을 앞두고 트래쉬 토크나 도발성 발언이 자주 이뤄지는데 츠쿠다는 자신이 일본인인 점을 어필하는 식으로 홍보했다. 츠쿠다 본인의 아이디어만은 아니고 윤형빈의 임수정 관련 발언 등과 연계하여 한일전으로 흥행을 끌어보려는 주최측의 아이디어가 감안된 것이었다. 이 아이디어는 성공적으로 전파되어 시합에 관심은 집중됐고 해당 시합과 관계 없는 임수정과 관련된 복수전이란 말이 퍼졌다 츠쿠다와 그의 매니저는 뒤에 인터뷰 등을 통해 혐한이 아님을 해명하였다. \"혐한이라니요. 저는 한국을 아주 좋아합니다.\" 2014년 2월 13일 밤 페이스북 메신저를 통해 대한민국의 기자가 받은 메시지 내용이다 관련 기사 시합 직후 한동안 페이스북 테러가 있었다고 하나 현재는 평온해 진 상태다. 츠쿠다는 \"독도가 일본영토라는 주장은 다시 생각해 볼 필요가 있다\"라는 말을 할 정도로 한국에 호의적인 사람이다. 윤형빈과의 경기 이후의 모습들을 보면 오히려 칭찬해 줄 만한 모습들을 많이 보여줬다. 현재 츠쿠다 타카야의 페이스북은 4,000여명 이상의 한국인들이 친구 신청을 했으며 활발하게 교류하고 있다. 윤형빈과의 시합 후 수많은 한국 팬들이 생긴 셈이다. 운동이 끝나거나 훈련중인 모습 등을 사진, 동영상으로 찍어 가끔씩 업데이트하며 매번 포스팅마다 수많은 격려의 댓글 또는 여성팬들의 '귀여워' 등의 댓글이 달리고 있다. 그리고 그는 대부분의 댓글이나 메시지에 피드백을 해준다\n",
      "A:  임수정 from 츠쿠다 다카야\n",
      "\n"
     ]
    }
   ],
   "source": [
    "bad_idx = random.sample(bad_idx, 5)\n",
    "for i in bad_idx:\n",
    "    print(\"Q: \", questions[i])\n",
    "    print(\"C: \", answers[i])\n",
    "    print(\"A: \", train_dataset['answers'][i]['text'][0], \"from\", train_dataset['title'][i])   \n",
    "    print()\n",
    "# 특정 맥락에서만 정답을 확인할 수 있는 질문(ex. 어떤 영화에서 어떤 배우가 어떤 역할을 했는지)이 꽤 있는 것으로 보인다.\n",
    "# 이런 경우는 retrieval이 잘 안될 것 같다. (특정 창작물에 관련된 문서를 retrieval해야 하는 경우)\n",
    "# Dense retrieval를 하려면 따로 데이터셋을 구하는 게 맘 편해 보인다."
   ]
  }
 ],
 "metadata": {
  "kernelspec": {
   "display_name": "w08-hw01",
   "language": "python",
   "name": "python3"
  },
  "language_info": {
   "codemirror_mode": {
    "name": "ipython",
    "version": 3
   },
   "file_extension": ".py",
   "mimetype": "text/x-python",
   "name": "python",
   "nbconvert_exporter": "python",
   "pygments_lexer": "ipython3",
   "version": "3.10.14"
  }
 },
 "nbformat": 4,
 "nbformat_minor": 2
}
