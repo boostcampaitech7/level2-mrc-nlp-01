{
 "cells": [
  {
   "cell_type": "markdown",
   "metadata": {},
   "source": [
    "# 훈련용 데이터셋 context 확인\n",
    "- 훈련용 데이터셋에 있는 context들이 주어진 `wikipedia_documents.json`에 있는지 속하는지 확인한다."
   ]
  },
  {
   "cell_type": "markdown",
   "metadata": {},
   "source": [
    "먼저, 훈련용 데이터셋에 있는 context를 불러온다."
   ]
  },
  {
   "cell_type": "code",
   "execution_count": 2,
   "metadata": {},
   "outputs": [],
   "source": [
    "from datasets import load_from_disk\n",
    "import pandas as pd"
   ]
  },
  {
   "cell_type": "code",
   "execution_count": 3,
   "metadata": {},
   "outputs": [],
   "source": [
    "data_path = '../data/train_dataset/'\n",
    "data = load_from_disk(data_path)"
   ]
  },
  {
   "cell_type": "code",
   "execution_count": 4,
   "metadata": {},
   "outputs": [],
   "source": [
    "train_data = data['train']"
   ]
  },
  {
   "cell_type": "code",
   "execution_count": 42,
   "metadata": {},
   "outputs": [],
   "source": [
    "train_context = pd.Series(train_data['context'], name='context')"
   ]
  },
  {
   "cell_type": "markdown",
   "metadata": {},
   "source": [
    "wikipedia_documents에 있는 context를 불러온다."
   ]
  },
  {
   "cell_type": "code",
   "execution_count": 6,
   "metadata": {},
   "outputs": [],
   "source": [
    "import json"
   ]
  },
  {
   "cell_type": "code",
   "execution_count": 7,
   "metadata": {},
   "outputs": [],
   "source": [
    "wiki_path = '../data/wikipedia_documents.json'\n",
    "with open(wiki_path) as f:\n",
    "    wiki = json.load(f)\n",
    "wiki = pd.DataFrame(wiki).T"
   ]
  },
  {
   "cell_type": "code",
   "execution_count": 19,
   "metadata": {},
   "outputs": [],
   "source": [
    "merged = pd.merge(train_context, wiki, left_on='context', right_on='text', how='inner')\n",
    "merged.drop(columns=['text'], inplace=True)"
   ]
  },
  {
   "cell_type": "code",
   "execution_count": 20,
   "metadata": {},
   "outputs": [
    {
     "name": "stdout",
     "output_type": "stream",
     "text": [
      "merged: 3984\n",
      "wiki: 60613\n",
      "train_context: 3952\n"
     ]
    }
   ],
   "source": [
    "print(\"merged:\", len(merged))\n",
    "print(\"wiki:\", len(wiki))\n",
    "print(\"train_context:\", len(train_context))"
   ]
  },
  {
   "cell_type": "markdown",
   "metadata": {},
   "source": [
    "`merged`의 결과가 `min(wiki, train_context)`보다도 더 크다?  \n",
    "natural join의 결과가 두 테이블의 최소 길이보다 클 수는 없는데... 무슨 문제가 있는 것 같다."
   ]
  },
  {
   "cell_type": "code",
   "execution_count": 46,
   "metadata": {},
   "outputs": [
    {
     "data": {
      "text/plain": [
       "323    False\n",
       "324    False\n",
       "325    False\n",
       "326    False\n",
       "327    False\n",
       "328    False\n",
       "329    False\n",
       "330    False\n",
       "331    False\n",
       "332    False\n",
       "Name: context, dtype: bool"
      ]
     },
     "execution_count": 46,
     "metadata": {},
     "output_type": "execute_result"
    }
   ],
   "source": [
    "b = merged['context'][:len(train_context)] == train_context\n",
    "b.loc[b == False][:10]"
   ]
  },
  {
   "cell_type": "code",
   "execution_count": 47,
   "metadata": {},
   "outputs": [
    {
     "data": {
      "text/plain": [
       "320     True\n",
       "321     True\n",
       "322     True\n",
       "323    False\n",
       "324    False\n",
       "Name: context, dtype: bool"
      ]
     },
     "execution_count": 47,
     "metadata": {},
     "output_type": "execute_result"
    }
   ],
   "source": [
    "b[320:325]\n",
    "# 쭉 같다가 322번째부터 다르다."
   ]
  },
  {
   "cell_type": "code",
   "execution_count": 48,
   "metadata": {},
   "outputs": [
    {
     "data": {
      "text/html": [
       "<div>\n",
       "<style scoped>\n",
       "    .dataframe tbody tr th:only-of-type {\n",
       "        vertical-align: middle;\n",
       "    }\n",
       "\n",
       "    .dataframe tbody tr th {\n",
       "        vertical-align: top;\n",
       "    }\n",
       "\n",
       "    .dataframe thead th {\n",
       "        text-align: right;\n",
       "    }\n",
       "</style>\n",
       "<table border=\"1\" class=\"dataframe\">\n",
       "  <thead>\n",
       "    <tr style=\"text-align: right;\">\n",
       "      <th></th>\n",
       "      <th>context</th>\n",
       "      <th>corpus_source</th>\n",
       "      <th>url</th>\n",
       "      <th>domain</th>\n",
       "      <th>title</th>\n",
       "      <th>author</th>\n",
       "      <th>html</th>\n",
       "      <th>document_id</th>\n",
       "    </tr>\n",
       "  </thead>\n",
       "  <tbody>\n",
       "    <tr>\n",
       "      <th>320</th>\n",
       "      <td>1878년 10월 21일 조선 충청북도 증평에서 태어난 그는 형제로는 독립운동가 연...</td>\n",
       "      <td>위키피디아</td>\n",
       "      <td>None</td>\n",
       "      <td>None</td>\n",
       "      <td>연병환</td>\n",
       "      <td>None</td>\n",
       "      <td>None</td>\n",
       "      <td>53017</td>\n",
       "    </tr>\n",
       "    <tr>\n",
       "      <th>321</th>\n",
       "      <td>이오에 대한 탐사\\n 이오의 발견을 최초로 공표한 사람은 갈릴레오 갈릴레이로, 16...</td>\n",
       "      <td>위키피디아</td>\n",
       "      <td>None</td>\n",
       "      <td>None</td>\n",
       "      <td>이오 (위성)</td>\n",
       "      <td>None</td>\n",
       "      <td>None</td>\n",
       "      <td>8264</td>\n",
       "    </tr>\n",
       "    <tr>\n",
       "      <th>322</th>\n",
       "      <td>1544년 중종이 병사하였다. 그러나 보위를 재빨리 인종이 접수함으로써 경원대군 추...</td>\n",
       "      <td>위키피디아</td>\n",
       "      <td>TODO</td>\n",
       "      <td>None</td>\n",
       "      <td>문정왕후 (조선)</td>\n",
       "      <td>None</td>\n",
       "      <td>None</td>\n",
       "      <td>2444</td>\n",
       "    </tr>\n",
       "    <tr>\n",
       "      <th>323</th>\n",
       "      <td>1544년 중종이 병사하였다. 그러나 보위를 재빨리 인종이 접수함으로써 경원대군 추...</td>\n",
       "      <td>위키피디아</td>\n",
       "      <td>None</td>\n",
       "      <td>None</td>\n",
       "      <td>문정왕후 (조선)</td>\n",
       "      <td>None</td>\n",
       "      <td>None</td>\n",
       "      <td>6998</td>\n",
       "    </tr>\n",
       "    <tr>\n",
       "      <th>324</th>\n",
       "      <td>아게실라오스는 기원전 245년에 왕위에 오른 아기스 4세의 어머니 아게시스토라타의 ...</td>\n",
       "      <td>위키피디아</td>\n",
       "      <td>None</td>\n",
       "      <td>None</td>\n",
       "      <td>아게실라오스</td>\n",
       "      <td>None</td>\n",
       "      <td>None</td>\n",
       "      <td>45562</td>\n",
       "    </tr>\n",
       "  </tbody>\n",
       "</table>\n",
       "</div>"
      ],
      "text/plain": [
       "                                               context corpus_source   url  \\\n",
       "320  1878년 10월 21일 조선 충청북도 증평에서 태어난 그는 형제로는 독립운동가 연...         위키피디아  None   \n",
       "321  이오에 대한 탐사\\n 이오의 발견을 최초로 공표한 사람은 갈릴레오 갈릴레이로, 16...         위키피디아  None   \n",
       "322  1544년 중종이 병사하였다. 그러나 보위를 재빨리 인종이 접수함으로써 경원대군 추...         위키피디아  TODO   \n",
       "323  1544년 중종이 병사하였다. 그러나 보위를 재빨리 인종이 접수함으로써 경원대군 추...         위키피디아  None   \n",
       "324  아게실라오스는 기원전 245년에 왕위에 오른 아기스 4세의 어머니 아게시스토라타의 ...         위키피디아  None   \n",
       "\n",
       "    domain      title author  html document_id  \n",
       "320   None        연병환   None  None       53017  \n",
       "321   None    이오 (위성)   None  None        8264  \n",
       "322   None  문정왕후 (조선)   None  None        2444  \n",
       "323   None  문정왕후 (조선)   None  None        6998  \n",
       "324   None     아게실라오스   None  None       45562  "
      ]
     },
     "execution_count": 48,
     "metadata": {},
     "output_type": "execute_result"
    }
   ],
   "source": [
    "merged[320:325]"
   ]
  },
  {
   "cell_type": "markdown",
   "metadata": {},
   "source": [
    "322번 context와 323번 context가 서로 같은데 document-id가 다르다.  \n",
    "아마 `wikipedia_documents.json`에는 같은 문서가 여러 개 들어가 있는 경우가 있는 것 같다."
   ]
  },
  {
   "cell_type": "code",
   "execution_count": 51,
   "metadata": {},
   "outputs": [],
   "source": [
    "wiki = wiki.drop_duplicates(subset='text', keep='first') # 중복 제거"
   ]
  },
  {
   "cell_type": "code",
   "execution_count": 52,
   "metadata": {},
   "outputs": [],
   "source": [
    "merged = pd.merge(train_context, wiki, left_on='context', right_on='text', how='inner')\n",
    "merged.drop(columns=['text'], inplace=True)"
   ]
  },
  {
   "cell_type": "code",
   "execution_count": 54,
   "metadata": {},
   "outputs": [
    {
     "name": "stdout",
     "output_type": "stream",
     "text": [
      "merged: 3952\n",
      "wiki: 56737\n",
      "train_context: 3952\n"
     ]
    }
   ],
   "source": [
    "print(\"merged:\", len(merged))\n",
    "print(\"wiki:\", len(wiki))\n",
    "print(\"train_context:\", len(train_context))"
   ]
  },
  {
   "cell_type": "markdown",
   "metadata": {},
   "source": [
    "3876개의 중복된 text가 wikipedia_documents에 있었다.  \n",
    "이를 제거하고 join하니 값이 train_context와 같아진 걸 확인했다.  "
   ]
  },
  {
   "cell_type": "code",
   "execution_count": null,
   "metadata": {},
   "outputs": [
    {
     "data": {
      "text/plain": [
       "323    False\n",
       "324    False\n",
       "325    False\n",
       "326    False\n",
       "327    False\n",
       "328    False\n",
       "329    False\n",
       "330    False\n",
       "331    False\n",
       "332    False\n",
       "Name: context, dtype: bool"
      ]
     },
     "metadata": {},
     "output_type": "display_data"
    }
   ],
   "source": [
    "b = merged['context'][:len(train_context)] == train_context\n",
    "b.loc[b == False][:10]"
   ]
  },
  {
   "cell_type": "markdown",
   "metadata": {},
   "source": [
    "# 결론\n",
    "1. `wikipedia_documents.json`에는 중복된 문서도 존재한다. (3678개)\n",
    "2. `train_dataset`에서 사용되는 `context`는 모두 `wikipedia_documents.json`에서 확인할 수 있다.\n",
    "3. 단, `wikipedia_documents.json`에 존재하는 context 중, $10\\%$도 활용하지 못하고 있다."
   ]
  }
 ],
 "metadata": {
  "kernelspec": {
   "display_name": "w08-hw01",
   "language": "python",
   "name": "python3"
  },
  "language_info": {
   "codemirror_mode": {
    "name": "ipython",
    "version": 3
   },
   "file_extension": ".py",
   "mimetype": "text/x-python",
   "name": "python",
   "nbconvert_exporter": "python",
   "pygments_lexer": "ipython3",
   "version": "3.10.14"
  }
 },
 "nbformat": 4,
 "nbformat_minor": 2
}
