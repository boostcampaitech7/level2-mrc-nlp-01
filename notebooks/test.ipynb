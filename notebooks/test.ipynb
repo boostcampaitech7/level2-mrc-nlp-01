{
 "cells": [
  {
   "cell_type": "code",
   "execution_count": null,
   "metadata": {},
   "outputs": [],
   "source": [
    "import pickle\n",
    "import os\n",
    "import random\n",
    "from IPython.display import display, HTML\n",
    "\n",
    "# 파일 경로 설정 (실제 파일 경로로 변경해주세요)\n",
    "file_path = \"/data/ephemeral/home/ksw/case2/level2-mrc-nlp-01/formerNegativeSampling/negative_samples.pkl\"\n",
    "\n",
    "# 파일 열기 및 내용 로드\n",
    "with open(file_path, \"rb\") as f:\n",
    "    negative_samples = pickle.load(f)\n",
    "\n",
    "# 데이터 구조 확인\n",
    "print(f\"데이터 타입: {type(negative_samples)}\")\n",
    "print(f\"데이터 길이: {len(negative_samples)}\")\n",
    "\n",
    "# 샘플 데이터 출력 함수\n",
    "def display_samples(samples, num_samples=5, num_negatives=3):\n",
    "    for i in range(num_samples):\n",
    "        idx = random.randint(0, len(samples) - num_negatives - 1)\n",
    "        html = f\"<h3>샘플 세트 {i+1}</h3>\"\n",
    "        html += f\"<p><strong>원본 컨텍스트:</strong> {samples[idx]}</p>\"\n",
    "        for j in range(1, num_negatives + 1):\n",
    "            html += f\"<p><strong>네거티브 {j}:</strong> {samples[idx + j]}</p>\"\n",
    "        html += \"<hr>\"\n",
    "        display(HTML(html))\n",
    "\n",
    "# 샘플 데이터 출력\n",
    "print(\"\\n샘플 데이터:\")\n",
    "display_samples(negative_samples)\n",
    "\n",
    "# 데이터의 일부 통계 (예: 평균 길이)\n",
    "avg_length = sum(len(sample.split()) for sample in negative_samples) / len(negative_samples)\n",
    "print(f\"\\n평균 샘플 길이 (단어 수): {avg_length:.2f}\")\n",
    "\n",
    "# 길이 분포 시각화\n",
    "import matplotlib.pyplot as plt\n",
    "\n",
    "lengths = [len(sample.split()) for sample in negative_samples]\n",
    "plt.figure(figsize=(10, 6))\n",
    "plt.hist(lengths, bins=50)\n",
    "plt.title(\"샘플 길이 분포\")\n",
    "plt.xlabel(\"단어 수\")\n",
    "plt.ylabel(\"빈도\")\n",
    "plt.show()"
   ]
  }
 ],
 "metadata": {
  "language_info": {
   "name": "python"
  }
 },
 "nbformat": 4,
 "nbformat_minor": 2
}
