{
 "cells": [
  {
   "cell_type": "markdown",
   "metadata": {},
   "source": [
    "# BM25 성능 확인\n",
    "\n",
    "BM25를 이용하면 top-k에 따른 recall이 어느 정도 나오는지 확인\n",
    "먼저 BM25을 구한다."
   ]
  },
  {
   "cell_type": "code",
   "execution_count": 1,
   "metadata": {},
   "outputs": [],
   "source": [
    "import sys, os\n",
    "dir_path = os.path.dirname(os.path.abspath(''))\n",
    "src_path = os.path.join(dir_path, 'src')\n",
    "sys.path.append(src_path)"
   ]
  },
  {
   "cell_type": "code",
   "execution_count": 2,
   "metadata": {},
   "outputs": [
    {
     "name": "stderr",
     "output_type": "stream",
     "text": [
      "e:\\miniconda\\envs\\st\\lib\\site-packages\\tqdm\\auto.py:21: TqdmWarning: IProgress not found. Please update jupyter and ipywidgets. See https://ipywidgets.readthedocs.io/en/stable/user_install.html\n",
      "  from .autonotebook import tqdm as notebook_tqdm\n"
     ]
    }
   ],
   "source": [
    "from Retrieval.sparse_retrieval import SparseRetrieval\n",
    "from config import Config\n",
    "from transformers import AutoTokenizer"
   ]
  },
  {
   "cell_type": "code",
   "execution_count": 3,
   "metadata": {},
   "outputs": [
    {
     "name": "stderr",
     "output_type": "stream",
     "text": [
      "e:\\miniconda\\envs\\st\\lib\\site-packages\\huggingface_hub\\file_download.py:1142: FutureWarning: `resume_download` is deprecated and will be removed in version 1.0.0. Downloads always resume when possible. If you want to force a new download, use `force_download=True`.\n",
      "  warnings.warn(\n"
     ]
    }
   ],
   "source": [
    "config = Config(path='../config.yaml')\n",
    "tokenizer = AutoTokenizer.from_pretrained(config.model.name())"
   ]
  },
  {
   "cell_type": "code",
   "execution_count": 4,
   "metadata": {},
   "outputs": [
    {
     "name": "stdout",
     "output_type": "stream",
     "text": [
      "Lengths of unique contexts : 56737\n"
     ]
    }
   ],
   "source": [
    "retriever = SparseRetrieval(tokenize_fn=tokenizer.tokenize, context_path='../data/wikipedia_documents.json')"
   ]
  },
  {
   "cell_type": "code",
   "execution_count": 5,
   "metadata": {},
   "outputs": [
    {
     "name": "stdout",
     "output_type": "stream",
     "text": [
      "-----------BM25 pickle loaded.-----------\n",
      "-----------we loaded it from data/ not src-----------\n"
     ]
    }
   ],
   "source": [
    "retriever.get_sparse_embedding()"
   ]
  },
  {
   "cell_type": "markdown",
   "metadata": {},
   "source": [
    "이제 데이터셋을 불러온 후,  \n",
    "top-k에 따른 recall을 구해보자.  "
   ]
  },
  {
   "cell_type": "code",
   "execution_count": 6,
   "metadata": {},
   "outputs": [],
   "source": [
    "from datasets import load_from_disk\n",
    "import json"
   ]
  },
  {
   "cell_type": "code",
   "execution_count": 7,
   "metadata": {},
   "outputs": [],
   "source": [
    "dataset = load_from_disk('../data/train_dataset')\n",
    "with open('../data/wikipedia_documents.json', 'r') as f:\n",
    "    wikipedia = json.load(f)"
   ]
  },
  {
   "cell_type": "code",
   "execution_count": 8,
   "metadata": {},
   "outputs": [],
   "source": [
    "train_dataset = dataset[\"train\"]\n",
    "questions = train_dataset['question']\n",
    "answers = train_dataset['context']"
   ]
  },
  {
   "cell_type": "code",
   "execution_count": 9,
   "metadata": {},
   "outputs": [
    {
     "name": "stdout",
     "output_type": "stream",
     "text": [
      "get_relevant_doc_bulk실행중 queries의 개수는  3952\n",
      "get_relevant_doc_bulk실행중 queries의 type은  <class 'list'>\n"
     ]
    },
    {
     "name": "stderr",
     "output_type": "stream",
     "text": [
      "Processing queries: 100%|██████████| 3952/3952 [25:29<00:00,  2.58it/s]\n"
     ]
    }
   ],
   "source": [
    "_, doc_indices = retriever.get_relevant_doc_bulk(questions, k=100)"
   ]
  },
  {
   "cell_type": "code",
   "execution_count": null,
   "metadata": {},
   "outputs": [],
   "source": [
    "rankings = []\n",
    "for i, indices in enumerate(doc_indices):\n",
    "    in_k = False\n",
    "    for rank, idx in enumerate(indices):\n",
    "        if retriever.contexts[idx] == answers[i]:\n",
    "            in_k = True\n",
    "            rankings.append(rank+1)\n",
    "            break\n",
    "    if not in_k:\n",
    "        rankings.append(len(indices)+1)"
   ]
  },
  {
   "cell_type": "code",
   "execution_count": 11,
   "metadata": {},
   "outputs": [],
   "source": [
    "def recall_at_k(k, rankings):\n",
    "    return sum([1 for rank in rankings if rank <= k]) / len(rankings)"
   ]
  },
  {
   "cell_type": "code",
   "execution_count": 12,
   "metadata": {},
   "outputs": [],
   "source": [
    "recalls = [recall_at_k(k, rankings) for k in range(1, 101)]"
   ]
  },
  {
   "cell_type": "markdown",
   "metadata": {},
   "source": [
    "lineplot으로 시각화 진행"
   ]
  },
  {
   "cell_type": "code",
   "execution_count": 13,
   "metadata": {},
   "outputs": [],
   "source": [
    "import matplotlib as mpt\n",
    "import matplotlib.pyplot as plt"
   ]
  },
  {
   "cell_type": "code",
   "execution_count": 14,
   "metadata": {},
   "outputs": [
    {
     "data": {
      "image/png": "[encoded data removed]",
      "text/plain": [
       "<Figure size 640x480 with 1 Axes>"
      ]
     },
     "metadata": {},
     "output_type": "display_data"
    }
   ],
   "source": [
    "fig = plt.figure()\n",
    "ax = fig.add_subplot(111)\n",
    "ax.plot(range(1, 101), recalls)\n",
    "ax.set_xlabel('top-k')\n",
    "ax.set_ylabel('recall')\n",
    "ax.set_xticks(range(0, 101, 5))\n",
    "ax.set_title('Recall@K')\n",
    "ax.grid()"
   ]
  },
  {
   "cell_type": "code",
   "execution_count": 15,
   "metadata": {},
   "outputs": [
    {
     "name": "stdout",
     "output_type": "stream",
     "text": [
      "recall @ 1 : 0.5374493927125507\n",
      "recall @ 2 : 0.7305161943319838\n",
      "recall @ 3 : 0.7785931174089069\n",
      "recall @ 4 : 0.8081983805668016\n",
      "recall @ 5 : 0.8248987854251012\n",
      "recall @ 18 : 0.9010627530364372\n",
      "recall @ 25 : 0.9139676113360324\n",
      "recall @ 100 : 0.9531882591093117\n"
     ]
    }
   ],
   "source": [
    "print(\"recall @ 1 :\", recalls[0])\n",
    "target_recall = (int(recalls[0] * 100)//10 + 1) * 10\n",
    "for i in range(1, 100):\n",
    "    check = False\n",
    "    if recalls[i] >= target_recall/100:\n",
    "        print(\"recall @\", i+1, \":\", recalls[i])\n",
    "        target_recall += 10\n",
    "        check = True\n",
    "    if not check and i <= 4:\n",
    "        print(\"recall @\", i+1, \":\", recalls[i])\n",
    "print(\"recall @ 25 :\", recalls[24])\n",
    "print(\"recall @ 100 :\", recalls[99])"
   ]
  },
  {
   "cell_type": "code",
   "execution_count": null,
   "metadata": {},
   "outputs": [],
   "source": []
  }
 ],
 "metadata": {
  "kernelspec": {
   "display_name": "w08-hw01",
   "language": "python",
   "name": "python3"
  },
  "language_info": {
   "codemirror_mode": {
    "name": "ipython",
    "version": 3
   },
   "file_extension": ".py",
   "mimetype": "text/x-python",
   "name": "python",
   "nbconvert_exporter": "python",
   "pygments_lexer": "ipython3",
   "version": "3.10.15"
  }
 },
 "nbformat": 4,
 "nbformat_minor": 2
}
