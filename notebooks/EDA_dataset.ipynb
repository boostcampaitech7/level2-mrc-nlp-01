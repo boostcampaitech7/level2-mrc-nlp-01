{
 "cells": [
  {
   "cell_type": "markdown",
   "metadata": {},
   "source": [
    "## 목차\n",
    "### 1. train, valid 데이터셋 시각화 및 분석\n",
    "#### 1.1 데이터셋 로드 및 구조 파악\n",
    "#### 1.2 각 QA 문장 별 길이 분석\n",
    "#### 1.3 Q/A에 대하여 최대, 최소길이 분석\n",
    "### 2. 토크나이저 별 데이터셋 분석\n",
    "#### 2.1 토크나이저 입력 셋팅\n",
    "#### 2.2 입력 받은 토크나이저에 대한 로드\n",
    "#### 2.3 해당 토크나이저로 train과 valid에 대한 unk 토큰 인식 분석\n",
    "### 3. 실제 예측 및 실험 진행에 따른 분석"
   ]
  },
  {
   "cell_type": "markdown",
   "metadata": {},
   "source": [
    "### 1. train, valid 데이터셋 시각화 및 분석"
   ]
  },
  {
   "cell_type": "markdown",
   "metadata": {},
   "source": [
    "#### 1.1 데이터셋 로드 및 구조 파악"
   ]
  },
  {
   "cell_type": "code",
   "execution_count": 1,
   "metadata": {},
   "outputs": [
    {
     "name": "stderr",
     "output_type": "stream",
     "text": [
      "/opt/conda/lib/python3.10/site-packages/tqdm/auto.py:21: TqdmWarning: IProgress not found. Please update jupyter and ipywidgets. See https://ipywidgets.readthedocs.io/en/stable/user_install.html\n",
      "  from .autonotebook import tqdm as notebook_tqdm\n"
     ]
    }
   ],
   "source": [
    "from datasets import load_from_disk"
   ]
  },
  {
   "cell_type": "code",
   "execution_count": 2,
   "metadata": {},
   "outputs": [],
   "source": [
    "# 데이터 로드\n",
    "train_data = load_from_disk(\"/data/ephemeral/home/project/level2-mrc-nlp-01/data/train_dataset/train\")\n",
    "valid_data = load_from_disk(\"/data/ephemeral/home/project/level2-mrc-nlp-01/data/train_dataset/validation\")"
   ]
  },
  {
   "cell_type": "code",
   "execution_count": 16,
   "metadata": {},
   "outputs": [
    {
     "name": "stdout",
     "output_type": "stream",
     "text": [
      "Dataset({\n",
      "    features: ['title', 'context', 'question', 'id', 'answers', 'document_id', '__index_level_0__'],\n",
      "    num_rows: 3952\n",
      "})\n",
      "Dataset({\n",
      "    features: ['title', 'context', 'question', 'id', 'answers', 'document_id', '__index_level_0__'],\n",
      "    num_rows: 240\n",
      "})\n"
     ]
    }
   ],
   "source": [
    "# train_data, valid_data 구조파악\n",
    "print(train_data)\n",
    "print(valid_data)"
   ]
  },
  {
   "cell_type": "code",
   "execution_count": 17,
   "metadata": {},
   "outputs": [
    {
     "name": "stdout",
     "output_type": "stream",
     "text": [
      "3952\n",
      "240\n"
     ]
    }
   ],
   "source": [
    "# 문맥 갯수 파악\n",
    "print(len(train_data['context']))\n",
    "print(len(valid_data['context']))"
   ]
  },
  {
   "cell_type": "code",
   "execution_count": 20,
   "metadata": {},
   "outputs": [
    {
     "name": "stdout",
     "output_type": "stream",
     "text": [
      "3952\n",
      "240\n"
     ]
    }
   ],
   "source": [
    "# 대답 갯수 파악\n",
    "print(len(train_data['answers']))\n",
    "print(len(valid_data['answers']))"
   ]
  },
  {
   "cell_type": "code",
   "execution_count": 23,
   "metadata": {},
   "outputs": [
    {
     "data": {
      "text/plain": [
       "{'answer_start': [235], 'text': ['하원']}"
      ]
     },
     "execution_count": 23,
     "metadata": {},
     "output_type": "execute_result"
    }
   ],
   "source": [
    "# answers 형태 확인\n",
    "train_data['answers'][0]"
   ]
  },
  {
   "cell_type": "code",
   "execution_count": 27,
   "metadata": {},
   "outputs": [
    {
     "name": "stdout",
     "output_type": "stream",
     "text": [
      "0\n",
      "0\n"
     ]
    }
   ],
   "source": [
    "# 다중 정답 확인\n",
    "multiple_answers_train = [answer for answer in train_data['answers'] if len(answer['answer_start']) > 1 or len(answer['text']) > 1]\n",
    "multiple_answers_valid = [answer for answer in valid_data['answers'] if len(answer['answer_start']) > 1 or len(answer['text']) > 1]\n",
    "\n",
    "print(len(multiple_answers_train))\n",
    "print(len(multiple_answers_valid))"
   ]
  },
  {
   "cell_type": "code",
   "execution_count": 32,
   "metadata": {},
   "outputs": [
    {
     "name": "stdout",
     "output_type": "stream",
     "text": [
      "83\n"
     ]
    },
    {
     "data": {
      "text/plain": [
       "'관련하여 현재 토크나이저의 max_answer 이 30인데 30개의 토큰 개수로 이 83개의 length가 표현 되는지는 분석과제임.'"
      ]
     },
     "execution_count": 32,
     "metadata": {},
     "output_type": "execute_result"
    }
   ],
   "source": [
    "# 답변 최대 길이\n",
    "max_length = max(len(answer['text'][0]) for answer in train_data['answers'] if answer['text'])\n",
    "print(max_length)\n",
    "\n",
    "\"\"\"관련하여 현재 토크나이저의 max_answer 이 30인데 30개의 토큰 개수로 이 83개의 length가 표현 되는지는 분석과제임.\"\"\""
   ]
  },
  {
   "cell_type": "markdown",
   "metadata": {},
   "source": [
    "#### 1.2 각 QA 문장 별 길이 분석"
   ]
  },
  {
   "cell_type": "code",
   "execution_count": 28,
   "metadata": {},
   "outputs": [],
   "source": [
    "# 먼저 필요한 칼럼만 뽑아낸다.\n",
    "# 그러기 위해 필요한 라이브러리 임포트\n",
    "import pandas as pd"
   ]
  },
  {
   "cell_type": "code",
   "execution_count": 41,
   "metadata": {},
   "outputs": [
    {
     "name": "stdout",
     "output_type": "stream",
     "text": [
      "Dataset({\n",
      "    features: ['title', 'context', 'question', 'id', 'answers', 'document_id', '__index_level_0__'],\n",
      "    num_rows: 3952\n",
      "})\n",
      "Dataset({\n",
      "    features: ['title', 'context', 'question', 'id', 'answers', 'document_id', '__index_level_0__'],\n",
      "    num_rows: 240\n",
      "})\n"
     ]
    }
   ],
   "source": [
    "# 구조 재확인\n",
    "print(train_data)\n",
    "print(valid_data)"
   ]
  },
  {
   "cell_type": "code",
   "execution_count": 43,
   "metadata": {},
   "outputs": [
    {
     "data": {
      "text/html": [
       "<div>\n",
       "<style scoped>\n",
       "    .dataframe tbody tr th:only-of-type {\n",
       "        vertical-align: middle;\n",
       "    }\n",
       "\n",
       "    .dataframe tbody tr th {\n",
       "        vertical-align: top;\n",
       "    }\n",
       "\n",
       "    .dataframe thead th {\n",
       "        text-align: right;\n",
       "    }\n",
       "</style>\n",
       "<table border=\"1\" class=\"dataframe\">\n",
       "  <thead>\n",
       "    <tr style=\"text-align: right;\">\n",
       "      <th></th>\n",
       "      <th>title</th>\n",
       "      <th>context</th>\n",
       "      <th>id</th>\n",
       "      <th>answers_text</th>\n",
       "    </tr>\n",
       "  </thead>\n",
       "  <tbody>\n",
       "    <tr>\n",
       "      <th>0</th>\n",
       "      <td>미국 상원</td>\n",
       "      <td>미국 상의원 또는 미국 상원(United States Senate)은 양원제인 미국...</td>\n",
       "      <td>mrc-1-000067</td>\n",
       "      <td>하원</td>\n",
       "    </tr>\n",
       "    <tr>\n",
       "      <th>1</th>\n",
       "      <td>인사조직관리</td>\n",
       "      <td>'근대적 경영학' 또는 '고전적 경영학'에서 현대적 경영학으로 전환되는 시기는 19...</td>\n",
       "      <td>mrc-0-004397</td>\n",
       "      <td>《경영의 실제》</td>\n",
       "    </tr>\n",
       "    <tr>\n",
       "      <th>2</th>\n",
       "      <td>강희제</td>\n",
       "      <td>강희제는 강화된 황권으로 거의 황제 중심의 독단적으로 나라를 이끌어 갔기에 자칫 전...</td>\n",
       "      <td>mrc-1-000362</td>\n",
       "      <td>백성</td>\n",
       "    </tr>\n",
       "    <tr>\n",
       "      <th>3</th>\n",
       "      <td>금동삼존불감</td>\n",
       "      <td>불상을 모시기 위해 나무나 돌, 쇠 등을 깎아 일반적인 건축물보다 작은 규모로 만든...</td>\n",
       "      <td>mrc-0-001510</td>\n",
       "      <td>중국</td>\n",
       "    </tr>\n",
       "    <tr>\n",
       "      <th>4</th>\n",
       "      <td>계사명 사리구</td>\n",
       "      <td>동아대학교박물관에서 소장하고 있는 계사명 사리구는 총 4개의 용기로 구성된 조선후기...</td>\n",
       "      <td>mrc-0-000823</td>\n",
       "      <td>4개</td>\n",
       "    </tr>\n",
       "    <tr>\n",
       "      <th>...</th>\n",
       "      <td>...</td>\n",
       "      <td>...</td>\n",
       "      <td>...</td>\n",
       "      <td>...</td>\n",
       "    </tr>\n",
       "    <tr>\n",
       "      <th>3947</th>\n",
       "      <td>이오 (위성)</td>\n",
       "      <td>이오의 산\\n이오의 산 목록\\n 이오에는 100~150개의 산이 있다. 이들 산의 ...</td>\n",
       "      <td>mrc-0-005285</td>\n",
       "      <td>지질 구조</td>\n",
       "    </tr>\n",
       "    <tr>\n",
       "      <th>3948</th>\n",
       "      <td>내니 다이어리</td>\n",
       "      <td>애니의 고군분투 뉴욕 입성기!!\\n\\n인류학자가 꿈인 21살 소녀 '애니(스칼렛 요...</td>\n",
       "      <td>mrc-1-000699</td>\n",
       "      <td>뉴저지</td>\n",
       "    </tr>\n",
       "    <tr>\n",
       "      <th>3949</th>\n",
       "      <td>빈 필하모니 관현악단</td>\n",
       "      <td>1842년에 작곡가이자 지휘자인 오토 니콜라이가 빈 궁정 오페라극장 소속 관현악단을...</td>\n",
       "      <td>mrc-0-003429</td>\n",
       "      <td>칼 에케르트</td>\n",
       "    </tr>\n",
       "    <tr>\n",
       "      <th>3950</th>\n",
       "      <td>드래곤</td>\n",
       "      <td>원어는 고대 그리스어까지 거슬러 올라간다. 영어 문헌에 이 말이 나타나기 시작한 것...</td>\n",
       "      <td>mrc-0-003956</td>\n",
       "      <td>슬라브 신화</td>\n",
       "    </tr>\n",
       "    <tr>\n",
       "      <th>3951</th>\n",
       "      <td>2011년 함부르크 주의회 선거</td>\n",
       "      <td>2008년 2월 28일 실시된 2008년 함부르크 주의회 선거에서 기민련은 과반수 ...</td>\n",
       "      <td>mrc-0-003589</td>\n",
       "      <td>크리스토포 알하우스</td>\n",
       "    </tr>\n",
       "  </tbody>\n",
       "</table>\n",
       "<p>3952 rows × 4 columns</p>\n",
       "</div>"
      ],
      "text/plain": [
       "                  title                                            context  \\\n",
       "0                 미국 상원  미국 상의원 또는 미국 상원(United States Senate)은 양원제인 미국...   \n",
       "1                인사조직관리  '근대적 경영학' 또는 '고전적 경영학'에서 현대적 경영학으로 전환되는 시기는 19...   \n",
       "2                   강희제  강희제는 강화된 황권으로 거의 황제 중심의 독단적으로 나라를 이끌어 갔기에 자칫 전...   \n",
       "3                금동삼존불감  불상을 모시기 위해 나무나 돌, 쇠 등을 깎아 일반적인 건축물보다 작은 규모로 만든...   \n",
       "4               계사명 사리구  동아대학교박물관에서 소장하고 있는 계사명 사리구는 총 4개의 용기로 구성된 조선후기...   \n",
       "...                 ...                                                ...   \n",
       "3947            이오 (위성)  이오의 산\\n이오의 산 목록\\n 이오에는 100~150개의 산이 있다. 이들 산의 ...   \n",
       "3948            내니 다이어리  애니의 고군분투 뉴욕 입성기!!\\n\\n인류학자가 꿈인 21살 소녀 '애니(스칼렛 요...   \n",
       "3949        빈 필하모니 관현악단  1842년에 작곡가이자 지휘자인 오토 니콜라이가 빈 궁정 오페라극장 소속 관현악단을...   \n",
       "3950                드래곤  원어는 고대 그리스어까지 거슬러 올라간다. 영어 문헌에 이 말이 나타나기 시작한 것...   \n",
       "3951  2011년 함부르크 주의회 선거  2008년 2월 28일 실시된 2008년 함부르크 주의회 선거에서 기민련은 과반수 ...   \n",
       "\n",
       "                id answers_text  \n",
       "0     mrc-1-000067           하원  \n",
       "1     mrc-0-004397     《경영의 실제》  \n",
       "2     mrc-1-000362           백성  \n",
       "3     mrc-0-001510           중국  \n",
       "4     mrc-0-000823           4개  \n",
       "...            ...          ...  \n",
       "3947  mrc-0-005285        지질 구조  \n",
       "3948  mrc-1-000699          뉴저지  \n",
       "3949  mrc-0-003429       칼 에케르트  \n",
       "3950  mrc-0-003956       슬라브 신화  \n",
       "3951  mrc-0-003589   크리스토포 알하우스  \n",
       "\n",
       "[3952 rows x 4 columns]"
      ]
     },
     "execution_count": 43,
     "metadata": {},
     "output_type": "execute_result"
    }
   ],
   "source": [
    "import pandas as pd\n",
    "\n",
    "# 필요한 컬럼만 선택\n",
    "temp_train_df = {\n",
    "    'title': [item['title'] for item in train_data],\n",
    "    'context': [item['context'] for item in train_data],\n",
    "    'id': [item['id'] for item in train_data],\n",
    "    'answers_text': [item['answers']['text'][0] if item['answers']['text'] else '' for item in train_data]\n",
    "}\n",
    "\n",
    "# 데이터 프레임으로 변환\n",
    "train_df = pd.DataFrame(temp_train_df)\n",
    "\n",
    "# 출력 확인\n",
    "train_df"
   ]
  },
  {
   "cell_type": "code",
   "execution_count": 44,
   "metadata": {},
   "outputs": [
    {
     "data": {
      "text/html": [
       "<div>\n",
       "<style scoped>\n",
       "    .dataframe tbody tr th:only-of-type {\n",
       "        vertical-align: middle;\n",
       "    }\n",
       "\n",
       "    .dataframe tbody tr th {\n",
       "        vertical-align: top;\n",
       "    }\n",
       "\n",
       "    .dataframe thead th {\n",
       "        text-align: right;\n",
       "    }\n",
       "</style>\n",
       "<table border=\"1\" class=\"dataframe\">\n",
       "  <thead>\n",
       "    <tr style=\"text-align: right;\">\n",
       "      <th></th>\n",
       "      <th>title</th>\n",
       "      <th>context</th>\n",
       "      <th>id</th>\n",
       "      <th>answers_text</th>\n",
       "    </tr>\n",
       "  </thead>\n",
       "  <tbody>\n",
       "    <tr>\n",
       "      <th>0</th>\n",
       "      <td>전효숙</td>\n",
       "      <td>순천여자고등학교 졸업, 1973년 이화여자대학교를 졸업하고 1975년 제17회 사법...</td>\n",
       "      <td>mrc-0-003264</td>\n",
       "      <td>한보철강</td>\n",
       "    </tr>\n",
       "    <tr>\n",
       "      <th>1</th>\n",
       "      <td>스토우빌선</td>\n",
       "      <td>요크 카운티 동쪽에 처음으로 여객 열차 운행이 시작한 시점은 1868년 토론토 &amp; ...</td>\n",
       "      <td>mrc-0-004762</td>\n",
       "      <td>1871년</td>\n",
       "    </tr>\n",
       "    <tr>\n",
       "      <th>2</th>\n",
       "      <td>촐라</td>\n",
       "      <td>촐라 정부\\n 촐라의 정부 체제는 전제군주제였으며,2001 촐라의 군주는 절대적인 ...</td>\n",
       "      <td>mrc-1-001810</td>\n",
       "      <td>나뭇잎</td>\n",
       "    </tr>\n",
       "    <tr>\n",
       "      <th>3</th>\n",
       "      <td>백조 기사</td>\n",
       "      <td>프랑스의 십자군 무훈시는 1099년 예루살렘 왕국의 통치자가 된 고드프루아 드 부용...</td>\n",
       "      <td>mrc-1-000219</td>\n",
       "      <td>금대야</td>\n",
       "    </tr>\n",
       "    <tr>\n",
       "      <th>4</th>\n",
       "      <td>탈관료제화</td>\n",
       "      <td>탈관료제화는 현대사회에서 관료제 성격이 약화되는 현상이다. 현대사회에서 관료제는 약...</td>\n",
       "      <td>mrc-1-000285</td>\n",
       "      <td>수평적 관계</td>\n",
       "    </tr>\n",
       "    <tr>\n",
       "      <th>...</th>\n",
       "      <td>...</td>\n",
       "      <td>...</td>\n",
       "      <td>...</td>\n",
       "      <td>...</td>\n",
       "    </tr>\n",
       "    <tr>\n",
       "      <th>235</th>\n",
       "      <td>전단 (제나라)</td>\n",
       "      <td>연나라 군대의 사령관이 악의에서 기겁으로 교체되자, 전단은 스스로 신령의 계시를 받...</td>\n",
       "      <td>mrc-0-000484</td>\n",
       "      <td>제 양왕</td>\n",
       "    </tr>\n",
       "    <tr>\n",
       "      <th>236</th>\n",
       "      <td>티칼</td>\n",
       "      <td>현재 우리가 볼 수 있는 티칼의 모습은 펜실베이니아 대학교와 과테말라 정부의 협조 ...</td>\n",
       "      <td>mrc-0-002095</td>\n",
       "      <td>'일곱 개의 신전 광장'</td>\n",
       "    </tr>\n",
       "    <tr>\n",
       "      <th>237</th>\n",
       "      <td>윤치호</td>\n",
       "      <td>1940년 5월 1일 오전 창씨개명에 비협조적이라는 이유로 조선총독부 경무국에서 소...</td>\n",
       "      <td>mrc-0-003083</td>\n",
       "      <td>미나미 지로</td>\n",
       "    </tr>\n",
       "    <tr>\n",
       "      <th>238</th>\n",
       "      <td>신잉카국</td>\n",
       "      <td>빌카밤바 지역은 파차쿠티 황제 때 부터 잉카 제국에 속해있던 지역이었다. 스페인 군...</td>\n",
       "      <td>mrc-0-002978</td>\n",
       "      <td>200,000명</td>\n",
       "    </tr>\n",
       "    <tr>\n",
       "      <th>239</th>\n",
       "      <td>레닌주의</td>\n",
       "      <td>사회주의 혁명은 오로지 선진노동자계급에 기초한 계급투쟁으로서 이루어질 수 있다고 주...</td>\n",
       "      <td>mrc-1-000622</td>\n",
       "      <td>공산주의</td>\n",
       "    </tr>\n",
       "  </tbody>\n",
       "</table>\n",
       "<p>240 rows × 4 columns</p>\n",
       "</div>"
      ],
      "text/plain": [
       "        title                                            context  \\\n",
       "0         전효숙  순천여자고등학교 졸업, 1973년 이화여자대학교를 졸업하고 1975년 제17회 사법...   \n",
       "1       스토우빌선  요크 카운티 동쪽에 처음으로 여객 열차 운행이 시작한 시점은 1868년 토론토 & ...   \n",
       "2          촐라  촐라 정부\\n 촐라의 정부 체제는 전제군주제였으며,2001 촐라의 군주는 절대적인 ...   \n",
       "3       백조 기사  프랑스의 십자군 무훈시는 1099년 예루살렘 왕국의 통치자가 된 고드프루아 드 부용...   \n",
       "4       탈관료제화  탈관료제화는 현대사회에서 관료제 성격이 약화되는 현상이다. 현대사회에서 관료제는 약...   \n",
       "..        ...                                                ...   \n",
       "235  전단 (제나라)  연나라 군대의 사령관이 악의에서 기겁으로 교체되자, 전단은 스스로 신령의 계시를 받...   \n",
       "236        티칼  현재 우리가 볼 수 있는 티칼의 모습은 펜실베이니아 대학교와 과테말라 정부의 협조 ...   \n",
       "237       윤치호  1940년 5월 1일 오전 창씨개명에 비협조적이라는 이유로 조선총독부 경무국에서 소...   \n",
       "238      신잉카국  빌카밤바 지역은 파차쿠티 황제 때 부터 잉카 제국에 속해있던 지역이었다. 스페인 군...   \n",
       "239      레닌주의  사회주의 혁명은 오로지 선진노동자계급에 기초한 계급투쟁으로서 이루어질 수 있다고 주...   \n",
       "\n",
       "               id   answers_text  \n",
       "0    mrc-0-003264           한보철강  \n",
       "1    mrc-0-004762          1871년  \n",
       "2    mrc-1-001810            나뭇잎  \n",
       "3    mrc-1-000219            금대야  \n",
       "4    mrc-1-000285         수평적 관계  \n",
       "..            ...            ...  \n",
       "235  mrc-0-000484           제 양왕  \n",
       "236  mrc-0-002095  '일곱 개의 신전 광장'  \n",
       "237  mrc-0-003083         미나미 지로  \n",
       "238  mrc-0-002978       200,000명  \n",
       "239  mrc-1-000622           공산주의  \n",
       "\n",
       "[240 rows x 4 columns]"
      ]
     },
     "execution_count": 44,
     "metadata": {},
     "output_type": "execute_result"
    }
   ],
   "source": [
    "# 필요한 컬럼만 선택\n",
    "temp_valid_df = {\n",
    "    'title': [item['title'] for item in valid_data],\n",
    "    'context': [item['context'] for item in valid_data],\n",
    "    'id': [item['id'] for item in valid_data],\n",
    "    'answers_text': [item['answers']['text'][0] if item['answers']['text'] else '' for item in valid_data]\n",
    "}\n",
    "\n",
    "# 데이터 프레임으로 변환\n",
    "valid_df = pd.DataFrame(temp_valid_df)\n",
    "\n",
    "# 출력 확인\n",
    "valid_df"
   ]
  },
  {
   "cell_type": "code",
   "execution_count": 45,
   "metadata": {},
   "outputs": [
    {
     "name": "stdout",
     "output_type": "stream",
     "text": [
      "Train DataFrame에서 'answers_text'가 빈 문자열인 행의 수: 0\n",
      "Valid DataFrame에서 'answers_text'가 빈 문자열인 행의 수: 0\n"
     ]
    }
   ],
   "source": [
    "# train_df에서 answers_text가 빈 문자열인 행의 수\n",
    "train_empty_answers = train_df[train_df['answers_text'] == ''].shape[0]\n",
    "print(f\"Train DataFrame에서 'answers_text'가 빈 문자열인 행의 수: {train_empty_answers}\")\n",
    "\n",
    "# valid_df에서 answers_text가 빈 문자열인 행의 수\n",
    "valid_empty_answers = valid_df[valid_df['answers_text'] == ''].shape[0]\n",
    "print(f\"Valid DataFrame에서 'answers_text'가 빈 문자열인 행의 수: {valid_empty_answers}\")"
   ]
  },
  {
   "cell_type": "code",
   "execution_count": 46,
   "metadata": {},
   "outputs": [],
   "source": [
    "# context 길이를 계산하여 새로운 컬럼 추가\n",
    "train_df['context_length'] = train_df['context'].apply(len)\n",
    "valid_df['context_length'] = valid_df['context'].apply(len)\n",
    "\n",
    "# context 길이를 기준으로 정렬\n",
    "train_df_sorted = train_df.sort_values(by='context_length')\n",
    "valid_df_sorted = valid_df.sort_values(by='context_length')"
   ]
  },
  {
   "cell_type": "code",
   "execution_count": 47,
   "metadata": {},
   "outputs": [
    {
     "data": {
      "text/html": [
       "<div>\n",
       "<style scoped>\n",
       "    .dataframe tbody tr th:only-of-type {\n",
       "        vertical-align: middle;\n",
       "    }\n",
       "\n",
       "    .dataframe tbody tr th {\n",
       "        vertical-align: top;\n",
       "    }\n",
       "\n",
       "    .dataframe thead th {\n",
       "        text-align: right;\n",
       "    }\n",
       "</style>\n",
       "<table border=\"1\" class=\"dataframe\">\n",
       "  <thead>\n",
       "    <tr style=\"text-align: right;\">\n",
       "      <th></th>\n",
       "      <th>title</th>\n",
       "      <th>context</th>\n",
       "      <th>id</th>\n",
       "      <th>answers_text</th>\n",
       "      <th>context_length</th>\n",
       "    </tr>\n",
       "  </thead>\n",
       "  <tbody>\n",
       "    <tr>\n",
       "      <th>762</th>\n",
       "      <td>에우데르 카마라</td>\n",
       "      <td>하지만 동 에우데르 카마라 대주교가 사회복지사업으로는 가난이 해결되지 않는다는 것을...</td>\n",
       "      <td>mrc-1-000554</td>\n",
       "      <td>농업노동자</td>\n",
       "      <td>512</td>\n",
       "    </tr>\n",
       "    <tr>\n",
       "      <th>1364</th>\n",
       "      <td>에우데르 카마라</td>\n",
       "      <td>하지만 동 에우데르 카마라 대주교가 사회복지사업으로는 가난이 해결되지 않는다는 것을...</td>\n",
       "      <td>mrc-0-001186</td>\n",
       "      <td>민중들</td>\n",
       "      <td>512</td>\n",
       "    </tr>\n",
       "    <tr>\n",
       "      <th>1032</th>\n",
       "      <td>불암산 호랑이 유격대</td>\n",
       "      <td>마지막 유격전은 적의 수송대를 공격하는 작전이었다. 생도들은 정보원으로부터 북한군의...</td>\n",
       "      <td>mrc-0-004447</td>\n",
       "      <td>북한군</td>\n",
       "      <td>512</td>\n",
       "    </tr>\n",
       "    <tr>\n",
       "      <th>973</th>\n",
       "      <td>불암산 호랑이 유격대</td>\n",
       "      <td>마지막 유격전은 적의 수송대를 공격하는 작전이었다. 생도들은 정보원으로부터 북한군의...</td>\n",
       "      <td>mrc-1-000296</td>\n",
       "      <td>조영달</td>\n",
       "      <td>512</td>\n",
       "    </tr>\n",
       "    <tr>\n",
       "      <th>807</th>\n",
       "      <td>알바니아 공산주의의 최후</td>\n",
       "      <td>알바니아의 공산주의 붕괴는 1990년 12월 11일 시작된 소련 외 유럽 지역에서 ...</td>\n",
       "      <td>mrc-1-000729</td>\n",
       "      <td>살리 베리샤</td>\n",
       "      <td>513</td>\n",
       "    </tr>\n",
       "    <tr>\n",
       "      <th>...</th>\n",
       "      <td>...</td>\n",
       "      <td>...</td>\n",
       "      <td>...</td>\n",
       "      <td>...</td>\n",
       "      <td>...</td>\n",
       "    </tr>\n",
       "    <tr>\n",
       "      <th>1085</th>\n",
       "      <td>겨울 전쟁</td>\n",
       "      <td>파아보 탈벨라가 지휘를 맡기 이전의 그 지역 핀란드군은 적의 포화에 쫓겨 후퇴를 거...</td>\n",
       "      <td>mrc-0-000185</td>\n",
       "      <td>핀란드군</td>\n",
       "      <td>2052</td>\n",
       "    </tr>\n",
       "    <tr>\n",
       "      <th>1610</th>\n",
       "      <td>겨울 전쟁</td>\n",
       "      <td>파아보 탈벨라가 지휘를 맡기 이전의 그 지역 핀란드군은 적의 포화에 쫓겨 후퇴를 거...</td>\n",
       "      <td>mrc-0-000572</td>\n",
       "      <td>파아보 탈벨라</td>\n",
       "      <td>2052</td>\n",
       "    </tr>\n",
       "    <tr>\n",
       "      <th>3139</th>\n",
       "      <td>모라스주의</td>\n",
       "      <td>모라스주의(모라시슴)는 프랑스의 반혁명가 샤를 모라스가 고안한 이념교리로, 악시옹 ...</td>\n",
       "      <td>mrc-0-002817</td>\n",
       "      <td>1896년</td>\n",
       "      <td>2055</td>\n",
       "    </tr>\n",
       "    <tr>\n",
       "      <th>3612</th>\n",
       "      <td>모라스주의</td>\n",
       "      <td>모라스주의(모라시슴)는 프랑스의 반혁명가 샤를 모라스가 고안한 이념교리로, 악시옹 ...</td>\n",
       "      <td>mrc-0-004194</td>\n",
       "      <td>뉘마 퓌스텔 드 쿨라주</td>\n",
       "      <td>2055</td>\n",
       "    </tr>\n",
       "    <tr>\n",
       "      <th>1022</th>\n",
       "      <td>이홍하</td>\n",
       "      <td>그는 전라남도 고흥군에 태어나 조선대학교 생물학과를 졸업하고 순천고등학교와 광주고등...</td>\n",
       "      <td>mrc-0-002580</td>\n",
       "      <td>전라남도 고흥군</td>\n",
       "      <td>2059</td>\n",
       "    </tr>\n",
       "  </tbody>\n",
       "</table>\n",
       "<p>3952 rows × 5 columns</p>\n",
       "</div>"
      ],
      "text/plain": [
       "              title                                            context  \\\n",
       "762        에우데르 카마라  하지만 동 에우데르 카마라 대주교가 사회복지사업으로는 가난이 해결되지 않는다는 것을...   \n",
       "1364       에우데르 카마라  하지만 동 에우데르 카마라 대주교가 사회복지사업으로는 가난이 해결되지 않는다는 것을...   \n",
       "1032    불암산 호랑이 유격대  마지막 유격전은 적의 수송대를 공격하는 작전이었다. 생도들은 정보원으로부터 북한군의...   \n",
       "973     불암산 호랑이 유격대  마지막 유격전은 적의 수송대를 공격하는 작전이었다. 생도들은 정보원으로부터 북한군의...   \n",
       "807   알바니아 공산주의의 최후  알바니아의 공산주의 붕괴는 1990년 12월 11일 시작된 소련 외 유럽 지역에서 ...   \n",
       "...             ...                                                ...   \n",
       "1085          겨울 전쟁  파아보 탈벨라가 지휘를 맡기 이전의 그 지역 핀란드군은 적의 포화에 쫓겨 후퇴를 거...   \n",
       "1610          겨울 전쟁  파아보 탈벨라가 지휘를 맡기 이전의 그 지역 핀란드군은 적의 포화에 쫓겨 후퇴를 거...   \n",
       "3139          모라스주의  모라스주의(모라시슴)는 프랑스의 반혁명가 샤를 모라스가 고안한 이념교리로, 악시옹 ...   \n",
       "3612          모라스주의  모라스주의(모라시슴)는 프랑스의 반혁명가 샤를 모라스가 고안한 이념교리로, 악시옹 ...   \n",
       "1022            이홍하  그는 전라남도 고흥군에 태어나 조선대학교 생물학과를 졸업하고 순천고등학교와 광주고등...   \n",
       "\n",
       "                id  answers_text  context_length  \n",
       "762   mrc-1-000554         농업노동자             512  \n",
       "1364  mrc-0-001186           민중들             512  \n",
       "1032  mrc-0-004447           북한군             512  \n",
       "973   mrc-1-000296           조영달             512  \n",
       "807   mrc-1-000729        살리 베리샤             513  \n",
       "...            ...           ...             ...  \n",
       "1085  mrc-0-000185          핀란드군            2052  \n",
       "1610  mrc-0-000572       파아보 탈벨라            2052  \n",
       "3139  mrc-0-002817         1896년            2055  \n",
       "3612  mrc-0-004194  뉘마 퓌스텔 드 쿨라주            2055  \n",
       "1022  mrc-0-002580      전라남도 고흥군            2059  \n",
       "\n",
       "[3952 rows x 5 columns]"
      ]
     },
     "execution_count": 47,
     "metadata": {},
     "output_type": "execute_result"
    }
   ],
   "source": [
    "# 확인\n",
    "train_df_sorted"
   ]
  },
  {
   "cell_type": "code",
   "execution_count": 48,
   "metadata": {},
   "outputs": [
    {
     "data": {
      "text/html": [
       "<div>\n",
       "<style scoped>\n",
       "    .dataframe tbody tr th:only-of-type {\n",
       "        vertical-align: middle;\n",
       "    }\n",
       "\n",
       "    .dataframe tbody tr th {\n",
       "        vertical-align: top;\n",
       "    }\n",
       "\n",
       "    .dataframe thead th {\n",
       "        text-align: right;\n",
       "    }\n",
       "</style>\n",
       "<table border=\"1\" class=\"dataframe\">\n",
       "  <thead>\n",
       "    <tr style=\"text-align: right;\">\n",
       "      <th></th>\n",
       "      <th>title</th>\n",
       "      <th>context</th>\n",
       "      <th>id</th>\n",
       "      <th>answers_text</th>\n",
       "      <th>context_length</th>\n",
       "    </tr>\n",
       "  </thead>\n",
       "  <tbody>\n",
       "    <tr>\n",
       "      <th>101</th>\n",
       "      <td>조지 메테스키</td>\n",
       "      <td>세계 1차 대전이 일어나자, 메테스키는 미국 해병대에 지원해 전기 전공자로 상하이의...</td>\n",
       "      <td>mrc-0-002906</td>\n",
       "      <td>맨해튼</td>\n",
       "      <td>517</td>\n",
       "    </tr>\n",
       "    <tr>\n",
       "      <th>122</th>\n",
       "      <td>귀인 편향</td>\n",
       "      <td>초기 연구자들은 귀인 편향을 인지적으로 주도된 정보처리 오류의 산물로서 설명했다. ...</td>\n",
       "      <td>mrc-0-003033</td>\n",
       "      <td>귀인 평향과 행동의 상관 관계</td>\n",
       "      <td>518</td>\n",
       "    </tr>\n",
       "    <tr>\n",
       "      <th>100</th>\n",
       "      <td>캐서린 스윈포드</td>\n",
       "      <td>캐서린 스윈포드는 원래 캐서린 드 로애로 태어났다. 그녀의 아버지는 \"파옹\"으로 알...</td>\n",
       "      <td>mrc-0-000355</td>\n",
       "      <td>수녀</td>\n",
       "      <td>518</td>\n",
       "    </tr>\n",
       "    <tr>\n",
       "      <th>43</th>\n",
       "      <td>영주 부석사 조사당 벽화</td>\n",
       "      <td>이 벽화는 부석사를 창건하고 우리나라에서 화엄종을 처음 시작한 의상대사를 모시고 있...</td>\n",
       "      <td>mrc-1-001116</td>\n",
       "      <td>의상대사</td>\n",
       "      <td>519</td>\n",
       "    </tr>\n",
       "    <tr>\n",
       "      <th>176</th>\n",
       "      <td>엘 마리아치</td>\n",
       "      <td>기묘한 정적이 감도는 한 마을에 마리아치 가수 엘 마리아치(El Mariachi: ...</td>\n",
       "      <td>mrc-0-001240</td>\n",
       "      <td>악당</td>\n",
       "      <td>519</td>\n",
       "    </tr>\n",
       "    <tr>\n",
       "      <th>...</th>\n",
       "      <td>...</td>\n",
       "      <td>...</td>\n",
       "      <td>...</td>\n",
       "      <td>...</td>\n",
       "      <td>...</td>\n",
       "    </tr>\n",
       "    <tr>\n",
       "      <th>184</th>\n",
       "      <td>갈릴레오 갈릴레이</td>\n",
       "      <td>코페르니쿠스의 지동설이 등장하기 전까지, 태양계 천체의 움직임은 주로 프톨레마이오스...</td>\n",
       "      <td>mrc-0-000536</td>\n",
       "      <td>《천체의 회전에 관하여》</td>\n",
       "      <td>1876</td>\n",
       "    </tr>\n",
       "    <tr>\n",
       "      <th>80</th>\n",
       "      <td>와카바야시 다다시</td>\n",
       "      <td>1927년 고등학교 학생의 신분으로 실업 팀에 선발되어 친선 경기를 위해 일본을 방...</td>\n",
       "      <td>mrc-0-001704</td>\n",
       "      <td>가리타 히사노리</td>\n",
       "      <td>1933</td>\n",
       "    </tr>\n",
       "    <tr>\n",
       "      <th>141</th>\n",
       "      <td>다리우스 작클리</td>\n",
       "      <td>61화에선 오랜만에 등장. 월 로제의 인류를 버린다는 선택을 한 왕정의 모습에 \"그...</td>\n",
       "      <td>mrc-0-003906</td>\n",
       "      <td>61화</td>\n",
       "      <td>2024</td>\n",
       "    </tr>\n",
       "    <tr>\n",
       "      <th>62</th>\n",
       "      <td>진나라</td>\n",
       "      <td>제서지전(齊西之戰)이후 제나라는 급격히 쇠퇴해 전성기 때의 강역을 회복하지 못했다....</td>\n",
       "      <td>mrc-0-003801</td>\n",
       "      <td>제서지전(齊西之戰)이후</td>\n",
       "      <td>2043</td>\n",
       "    </tr>\n",
       "    <tr>\n",
       "      <th>203</th>\n",
       "      <td>나가시마 시게오</td>\n",
       "      <td>1974년 10월 12일, 주니치의 리그 우승이 확정되면서 요미우리의 리그 10연패...</td>\n",
       "      <td>mrc-1-001622</td>\n",
       "      <td>우천</td>\n",
       "      <td>2064</td>\n",
       "    </tr>\n",
       "  </tbody>\n",
       "</table>\n",
       "<p>240 rows × 5 columns</p>\n",
       "</div>"
      ],
      "text/plain": [
       "             title                                            context  \\\n",
       "101        조지 메테스키  세계 1차 대전이 일어나자, 메테스키는 미국 해병대에 지원해 전기 전공자로 상하이의...   \n",
       "122          귀인 편향  초기 연구자들은 귀인 편향을 인지적으로 주도된 정보처리 오류의 산물로서 설명했다. ...   \n",
       "100       캐서린 스윈포드  캐서린 스윈포드는 원래 캐서린 드 로애로 태어났다. 그녀의 아버지는 \"파옹\"으로 알...   \n",
       "43   영주 부석사 조사당 벽화  이 벽화는 부석사를 창건하고 우리나라에서 화엄종을 처음 시작한 의상대사를 모시고 있...   \n",
       "176         엘 마리아치  기묘한 정적이 감도는 한 마을에 마리아치 가수 엘 마리아치(El Mariachi: ...   \n",
       "..             ...                                                ...   \n",
       "184      갈릴레오 갈릴레이  코페르니쿠스의 지동설이 등장하기 전까지, 태양계 천체의 움직임은 주로 프톨레마이오스...   \n",
       "80       와카바야시 다다시  1927년 고등학교 학생의 신분으로 실업 팀에 선발되어 친선 경기를 위해 일본을 방...   \n",
       "141       다리우스 작클리  61화에선 오랜만에 등장. 월 로제의 인류를 버린다는 선택을 한 왕정의 모습에 \"그...   \n",
       "62             진나라  제서지전(齊西之戰)이후 제나라는 급격히 쇠퇴해 전성기 때의 강역을 회복하지 못했다....   \n",
       "203       나가시마 시게오  1974년 10월 12일, 주니치의 리그 우승이 확정되면서 요미우리의 리그 10연패...   \n",
       "\n",
       "               id      answers_text  context_length  \n",
       "101  mrc-0-002906               맨해튼             517  \n",
       "122  mrc-0-003033  귀인 평향과 행동의 상관 관계             518  \n",
       "100  mrc-0-000355                수녀             518  \n",
       "43   mrc-1-001116              의상대사             519  \n",
       "176  mrc-0-001240                악당             519  \n",
       "..            ...               ...             ...  \n",
       "184  mrc-0-000536     《천체의 회전에 관하여》            1876  \n",
       "80   mrc-0-001704          가리타 히사노리            1933  \n",
       "141  mrc-0-003906               61화            2024  \n",
       "62   mrc-0-003801      제서지전(齊西之戰)이후            2043  \n",
       "203  mrc-1-001622                우천            2064  \n",
       "\n",
       "[240 rows x 5 columns]"
      ]
     },
     "execution_count": 48,
     "metadata": {},
     "output_type": "execute_result"
    }
   ],
   "source": [
    "valid_df_sorted"
   ]
  },
  {
   "cell_type": "code",
   "execution_count": 50,
   "metadata": {},
   "outputs": [
    {
     "name": "stdout",
     "output_type": "stream",
     "text": [
      "Collecting matplotlib\n",
      "  Obtaining dependency information for matplotlib from https://files.pythonhosted.org/packages/8d/9d/d06860390f9d154fa884f1740a5456378fb153ff57443c91a4a32bab7092/matplotlib-3.9.2-cp310-cp310-manylinux_2_17_x86_64.manylinux2014_x86_64.whl.metadata\n",
      "  Downloading matplotlib-3.9.2-cp310-cp310-manylinux_2_17_x86_64.manylinux2014_x86_64.whl.metadata (11 kB)\n",
      "Collecting contourpy>=1.0.1 (from matplotlib)\n",
      "  Obtaining dependency information for contourpy>=1.0.1 from https://files.pythonhosted.org/packages/99/e6/d11966962b1aa515f5586d3907ad019f4b812c04e4546cc19ebf62b5178e/contourpy-1.3.0-cp310-cp310-manylinux_2_17_x86_64.manylinux2014_x86_64.whl.metadata\n",
      "  Downloading contourpy-1.3.0-cp310-cp310-manylinux_2_17_x86_64.manylinux2014_x86_64.whl.metadata (5.4 kB)\n",
      "Collecting cycler>=0.10 (from matplotlib)\n",
      "  Obtaining dependency information for cycler>=0.10 from https://files.pythonhosted.org/packages/e7/05/c19819d5e3d95294a6f5947fb9b9629efb316b96de511b418c53d245aae6/cycler-0.12.1-py3-none-any.whl.metadata\n",
      "  Downloading cycler-0.12.1-py3-none-any.whl.metadata (3.8 kB)\n",
      "Collecting fonttools>=4.22.0 (from matplotlib)\n",
      "  Obtaining dependency information for fonttools>=4.22.0 from https://files.pythonhosted.org/packages/e5/12/9a45294a7c4520cc32936edd15df1d5c24af701d2f5f51070a9a43d7664b/fonttools-4.54.1-cp310-cp310-manylinux_2_17_x86_64.manylinux2014_x86_64.whl.metadata\n",
      "  Downloading fonttools-4.54.1-cp310-cp310-manylinux_2_17_x86_64.manylinux2014_x86_64.whl.metadata (163 kB)\n",
      "\u001b[2K     \u001b[90m━━━━━━━━━━━━━━━━━━━━━━━━━━━━━━━━━━━━━\u001b[0m \u001b[32m163.7/163.7 kB\u001b[0m \u001b[31m559.6 kB/s\u001b[0m eta \u001b[36m0:00:00\u001b[0ma \u001b[36m0:00:01\u001b[0m\n",
      "\u001b[?25hCollecting kiwisolver>=1.3.1 (from matplotlib)\n",
      "  Obtaining dependency information for kiwisolver>=1.3.1 from https://files.pythonhosted.org/packages/55/91/0a57ce324caf2ff5403edab71c508dd8f648094b18cfbb4c8cc0fde4a6ac/kiwisolver-1.4.7-cp310-cp310-manylinux_2_12_x86_64.manylinux2010_x86_64.whl.metadata\n",
      "  Downloading kiwisolver-1.4.7-cp310-cp310-manylinux_2_12_x86_64.manylinux2010_x86_64.whl.metadata (6.3 kB)\n",
      "Requirement already satisfied: numpy>=1.23 in /opt/conda/lib/python3.10/site-packages (from matplotlib) (1.26.0)\n",
      "Requirement already satisfied: packaging>=20.0 in /opt/conda/lib/python3.10/site-packages (from matplotlib) (21.3)\n",
      "Requirement already satisfied: pillow>=8 in /opt/conda/lib/python3.10/site-packages (from matplotlib) (9.2.0)\n",
      "Requirement already satisfied: pyparsing>=2.3.1 in /opt/conda/lib/python3.10/site-packages (from matplotlib) (3.2.0)\n",
      "Requirement already satisfied: python-dateutil>=2.7 in /opt/conda/lib/python3.10/site-packages (from matplotlib) (2.8.2)\n",
      "Requirement already satisfied: six>=1.5 in /opt/conda/lib/python3.10/site-packages (from python-dateutil>=2.7->matplotlib) (1.16.0)\n",
      "Downloading matplotlib-3.9.2-cp310-cp310-manylinux_2_17_x86_64.manylinux2014_x86_64.whl (8.3 MB)\n",
      "\u001b[2K   \u001b[90m━━━━━━━━━━━━━━━━━━━━━━━━━━━━━━━━━━━━━━━━\u001b[0m \u001b[32m8.3/8.3 MB\u001b[0m \u001b[31m10.5 MB/s\u001b[0m eta \u001b[36m0:00:00\u001b[0m00:01\u001b[0m00:01\u001b[0m\n",
      "\u001b[?25hDownloading contourpy-1.3.0-cp310-cp310-manylinux_2_17_x86_64.manylinux2014_x86_64.whl (322 kB)\n",
      "\u001b[2K   \u001b[90m━━━━━━━━━━━━━━━━━━━━━━━━━━━━━━━━━━━━━━━━\u001b[0m \u001b[32m322.0/322.0 kB\u001b[0m \u001b[31m43.3 MB/s\u001b[0m eta \u001b[36m0:00:00\u001b[0m\n",
      "\u001b[?25hDownloading cycler-0.12.1-py3-none-any.whl (8.3 kB)\n",
      "Downloading fonttools-4.54.1-cp310-cp310-manylinux_2_17_x86_64.manylinux2014_x86_64.whl (4.6 MB)\n",
      "\u001b[2K   \u001b[90m━━━━━━━━━━━━━━━━━━━━━━━━━━━━━━━━━━━━━━━━\u001b[0m \u001b[32m4.6/4.6 MB\u001b[0m \u001b[31m25.9 MB/s\u001b[0m eta \u001b[36m0:00:00\u001b[0m00:01\u001b[0m:00:01\u001b[0m\n",
      "\u001b[?25hDownloading kiwisolver-1.4.7-cp310-cp310-manylinux_2_12_x86_64.manylinux2010_x86_64.whl (1.6 MB)\n",
      "\u001b[2K   \u001b[90m━━━━━━━━━━━━━━━━━━━━━━━━━━━━━━━━━━━━━━━━\u001b[0m \u001b[32m1.6/1.6 MB\u001b[0m \u001b[31m64.4 MB/s\u001b[0m eta \u001b[36m0:00:00\u001b[0m\n",
      "\u001b[?25hInstalling collected packages: kiwisolver, fonttools, cycler, contourpy, matplotlib\n",
      "Successfully installed contourpy-1.3.0 cycler-0.12.1 fonttools-4.54.1 kiwisolver-1.4.7 matplotlib-3.9.2\n",
      "\u001b[33mWARNING: Running pip as the 'root' user can result in broken permissions and conflicting behaviour with the system package manager. It is recommended to use a virtual environment instead: https://pip.pypa.io/warnings/venv\u001b[0m\u001b[33m\n",
      "\u001b[0m"
     ]
    }
   ],
   "source": [
    "!pip install matplotlib"
   ]
  },
  {
   "cell_type": "code",
   "execution_count": 49,
   "metadata": {},
   "outputs": [
    {
     "ename": "ModuleNotFoundError",
     "evalue": "No module named 'matplotlib'",
     "output_type": "error",
     "traceback": [
      "\u001b[0;31m---------------------------------------------------------------------------\u001b[0m",
      "\u001b[0;31mModuleNotFoundError\u001b[0m                       Traceback (most recent call last)",
      "Cell \u001b[0;32mIn[49], line 2\u001b[0m\n\u001b[1;32m      1\u001b[0m \u001b[38;5;66;03m# train의 길이별 데이터셋 \u001b[39;00m\n\u001b[0;32m----> 2\u001b[0m \u001b[38;5;28;01mimport\u001b[39;00m \u001b[38;5;21;01mmatplotlib\u001b[39;00m\u001b[38;5;21;01m.\u001b[39;00m\u001b[38;5;21;01mpyplot\u001b[39;00m \u001b[38;5;28;01mas\u001b[39;00m \u001b[38;5;21;01mplt\u001b[39;00m\n\u001b[1;32m      3\u001b[0m \u001b[38;5;28;01mimport\u001b[39;00m \u001b[38;5;21;01mseaborn\u001b[39;00m \u001b[38;5;28;01mas\u001b[39;00m \u001b[38;5;21;01msns\u001b[39;00m\n\u001b[1;32m      5\u001b[0m \u001b[38;5;66;03m# 히스토그램\u001b[39;00m\n",
      "\u001b[0;31mModuleNotFoundError\u001b[0m: No module named 'matplotlib'"
     ]
    }
   ],
   "source": [
    "# train의 길이별 데이터셋 \n",
    "import matplotlib.pyplot as plt\n",
    "import seaborn as sns\n",
    "\n",
    "# 히스토그램\n",
    "plt.figure(figsize=(10, 6))\n",
    "sns.histplot(train_df_sorted['context_length'], bins=100, kde=True)\n",
    "plt.title('Context Length Distribution')\n",
    "plt.xlabel('Context Length')\n",
    "plt.ylabel('Frequency')\n",
    "plt.show()\n",
    "\n",
    "# 박스 플롯\n",
    "plt.figure(figsize=(10, 6))\n",
    "sns.boxplot(x=train_df_sorted['context_length'])\n",
    "plt.title('Context Length Box Plot')\n",
    "plt.xlabel('Context Length')\n",
    "plt.show()\n"
   ]
  },
  {
   "cell_type": "code",
   "execution_count": null,
   "metadata": {},
   "outputs": [],
   "source": []
  },
  {
   "cell_type": "markdown",
   "metadata": {},
   "source": [
    "### 2. 토크나이저 별 데이터셋 분석"
   ]
  },
  {
   "cell_type": "markdown",
   "metadata": {},
   "source": [
    "#### 2.1 토크나이저 입력 셋팅"
   ]
  },
  {
   "cell_type": "code",
   "execution_count": 34,
   "metadata": {},
   "outputs": [
    {
     "name": "stdout",
     "output_type": "stream",
     "text": [
      "The entered value is klue/bert-base\n"
     ]
    }
   ],
   "source": [
    "# 입력 받기\n",
    "tokenizer_input = input(\"tokenizer를 입력하시오 (ex. klue/bert-base): \")\n",
    "print(f\"The entered value is {tokenizer_input}\")"
   ]
  },
  {
   "cell_type": "markdown",
   "metadata": {},
   "source": [
    "#### 2.2 입력 받은 토크나이저에 대한 로드"
   ]
  },
  {
   "cell_type": "code",
   "execution_count": 35,
   "metadata": {},
   "outputs": [],
   "source": [
    "# 모듈 임포트\n",
    "from transformers import AutoTokenizer"
   ]
  },
  {
   "cell_type": "code",
   "execution_count": 36,
   "metadata": {},
   "outputs": [],
   "source": [
    "# 토크나이저 임포트\n",
    "tokenizer = AutoTokenizer.from_pretrained(tokenizer_input, use_fast=True)"
   ]
  },
  {
   "cell_type": "code",
   "execution_count": 38,
   "metadata": {},
   "outputs": [
    {
     "data": {
      "text/plain": [
       "BertTokenizerFast(name_or_path='klue/bert-base', vocab_size=32000, model_max_length=512, is_fast=True, padding_side='right', truncation_side='right', special_tokens={'unk_token': '[UNK]', 'sep_token': '[SEP]', 'pad_token': '[PAD]', 'cls_token': '[CLS]', 'mask_token': '[MASK]'}, clean_up_tokenization_spaces=False),  added_tokens_decoder={\n",
       "\t0: AddedToken(\"[PAD]\", rstrip=False, lstrip=False, single_word=False, normalized=False, special=True),\n",
       "\t1: AddedToken(\"[UNK]\", rstrip=False, lstrip=False, single_word=False, normalized=False, special=True),\n",
       "\t2: AddedToken(\"[CLS]\", rstrip=False, lstrip=False, single_word=False, normalized=False, special=True),\n",
       "\t3: AddedToken(\"[SEP]\", rstrip=False, lstrip=False, single_word=False, normalized=False, special=True),\n",
       "\t4: AddedToken(\"[MASK]\", rstrip=False, lstrip=False, single_word=False, normalized=False, special=True),\n",
       "}"
      ]
     },
     "execution_count": 38,
     "metadata": {},
     "output_type": "execute_result"
    }
   ],
   "source": [
    "# 기본 구조 파악\n",
    "tokenizer"
   ]
  },
  {
   "cell_type": "code",
   "execution_count": null,
   "metadata": {},
   "outputs": [],
   "source": []
  },
  {
   "cell_type": "markdown",
   "metadata": {},
   "source": [
    "#### 2.3 해당 토크나이저로 train과 valid에 대한 unk 토큰 인식 분석"
   ]
  },
  {
   "cell_type": "markdown",
   "metadata": {},
   "source": [
    "### 3. 실제 예측 및 실험 진행에 따른 분석"
   ]
  },
  {
   "cell_type": "markdown",
   "metadata": {},
   "source": []
  },
  {
   "cell_type": "markdown",
   "metadata": {},
   "source": []
  }
 ],
 "metadata": {
  "kernelspec": {
   "display_name": "base",
   "language": "python",
   "name": "python3"
  },
  "language_info": {
   "codemirror_mode": {
    "name": "ipython",
    "version": 3
   },
   "file_extension": ".py",
   "mimetype": "text/x-python",
   "name": "python",
   "nbconvert_exporter": "python",
   "pygments_lexer": "ipython3",
   "version": "3.10.13"
  }
 },
 "nbformat": 4,
 "nbformat_minor": 2
}
