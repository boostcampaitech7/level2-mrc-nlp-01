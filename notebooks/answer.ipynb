{
 "cells": [
  {
   "cell_type": "markdown",
   "metadata": {},
   "source": [
    "# Answer EDA\n",
    "데이터 전처리를 위해 정답 텍스트의 형태를 확인한다."
   ]
  },
  {
   "cell_type": "code",
   "execution_count": 1,
   "metadata": {},
   "outputs": [],
   "source": [
    "from datasets import load_from_disk\n",
    "import pandas as pd\n",
    "\n",
    "data_path = '../data/train_dataset/'\n",
    "data = load_from_disk(data_path)"
   ]
  },
  {
   "cell_type": "code",
   "execution_count": 2,
   "metadata": {},
   "outputs": [],
   "source": [
    "answers = []\n",
    "for answer in data['train']['answers']+data['validation']['answers']:\n",
    "    answers.append(answer['text'])"
   ]
  },
  {
   "cell_type": "code",
   "execution_count": 3,
   "metadata": {},
   "outputs": [],
   "source": [
    "answers = [s for answer in answers for s in answer]"
   ]
  },
  {
   "cell_type": "code",
   "execution_count": 4,
   "metadata": {},
   "outputs": [
    {
     "data": {
      "text/plain": [
       "4192"
      ]
     },
     "execution_count": 4,
     "metadata": {},
     "output_type": "execute_result"
    }
   ],
   "source": [
    "len(answers)"
   ]
  },
  {
   "cell_type": "code",
   "execution_count": 5,
   "metadata": {},
   "outputs": [
    {
     "data": {
      "text/plain": [
       "['하원',\n",
       " '《경영의 실제》',\n",
       " '백성',\n",
       " '중국',\n",
       " '4개',\n",
       " '드래곤',\n",
       " '형양태수 왕식',\n",
       " '이탈리아군',\n",
       " '큰아들 유',\n",
       " '왕대마을']"
      ]
     },
     "execution_count": 5,
     "metadata": {},
     "output_type": "execute_result"
    }
   ],
   "source": [
    "answers[:10]"
   ]
  },
  {
   "cell_type": "code",
   "execution_count": 6,
   "metadata": {},
   "outputs": [
    {
     "data": {
      "text/plain": [
       "['《경영의 실제》',\n",
       " \"'초일기'\",\n",
       " '우전왕(優塡王)식 착의법',\n",
       " \"'발라즈 찬 카이이'\",\n",
       " '그리고리 신부(Father Grigori)',\n",
       " '≪인간의 이해: 개념의 집단적 사용 및 진화 (1972)≫',\n",
       " '〈마브루공(公)〉',\n",
       " '〈성당과 시장〉(The Cathedral and the Bazaar)',\n",
       " \"'길버트 에드워드'\",\n",
       " '〈목포의 눈물〉']"
      ]
     },
     "execution_count": 6,
     "metadata": {},
     "output_type": "execute_result"
    }
   ],
   "source": [
    "import re\n",
    "\n",
    "# 공백을 제외한 한자 혹은 특수문자가 포함된 문자열을 찾기 위한 정규 표현식\n",
    "chinese_char_pattern = re.compile(r'[\\u4e00-\\u9fff]')\n",
    "special_pattern = re.compile(r'[^\\w\\s\\d]')\n",
    "\n",
    "# 한자 혹은 특수문자가 포함된 문자열을 저장할 리스트\n",
    "special_answers = [answer for answer in answers if special_pattern.search(answer) or chinese_char_pattern.search(answer)]\n",
    "\n",
    "special_answers[:10] # 한자 혹은 특수문자가 포함된 첫 10개의 문자열 출력"
   ]
  },
  {
   "cell_type": "code",
   "execution_count": 7,
   "metadata": {},
   "outputs": [
    {
     "data": {
      "text/plain": [
       "369"
      ]
     },
     "execution_count": 7,
     "metadata": {},
     "output_type": "execute_result"
    }
   ],
   "source": [
    "len(special_answers) # 한자 혹은 특수문자가 포함된 문자열의 개수 출력"
   ]
  },
  {
   "cell_type": "code",
   "execution_count": 8,
   "metadata": {},
   "outputs": [
    {
     "data": {
      "text/plain": [
       "55"
      ]
     },
     "execution_count": 8,
     "metadata": {},
     "output_type": "execute_result"
    }
   ],
   "source": [
    "chinese_char_answers = [answer for answer in answers if chinese_char_pattern.search(answer)]\n",
    "len(chinese_char_answers) # 한자가 포함된 문자열의 개수 출력"
   ]
  },
  {
   "cell_type": "code",
   "execution_count": 9,
   "metadata": {},
   "outputs": [
    {
     "data": {
      "text/plain": [
       "369"
      ]
     },
     "execution_count": 9,
     "metadata": {},
     "output_type": "execute_result"
    }
   ],
   "source": [
    "special_char_answers = [answer for answer in answers if special_pattern.search(answer)]\n",
    "len(special_char_answers) # 특수문자가 포함된 문자열의 개수 출력"
   ]
  }
 ],
 "metadata": {
  "kernelspec": {
   "display_name": "Python 3",
   "language": "python",
   "name": "python3"
  },
  "language_info": {
   "codemirror_mode": {
    "name": "ipython",
    "version": 3
   },
   "file_extension": ".py",
   "mimetype": "text/x-python",
   "name": "python",
   "nbconvert_exporter": "python",
   "pygments_lexer": "ipython3",
   "version": "3.12.6"
  }
 },
 "nbformat": 4,
 "nbformat_minor": 2
}
